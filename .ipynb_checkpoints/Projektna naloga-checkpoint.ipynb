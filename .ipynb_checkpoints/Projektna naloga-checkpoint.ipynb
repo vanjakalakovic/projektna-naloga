{
 "cells": [
  {
   "cell_type": "markdown",
   "id": "1e149019",
   "metadata": {},
   "source": [
    "# Projektna naloga"
   ]
  },
  {
   "cell_type": "markdown",
   "id": "8b0e1c64",
   "metadata": {},
   "source": [
    "Za projektno nalogo sem se odločila, da bom analizirala podatke o rakavih obolenjih. Glavni cilj te projektne naloge je, da temeljito analizira statistične podatke posameznega tipa raka ter te podatke ustrezno in razumljivo predstavi."
   ]
  },
  {
   "cell_type": "markdown",
   "id": "16227de9",
   "metadata": {},
   "source": [
    "Najprej uvozimo knjižnjice, ki jih bomo potrebovali. "
   ]
  },
  {
   "cell_type": "code",
   "execution_count": 201,
   "id": "847935fe",
   "metadata": {},
   "outputs": [],
   "source": [
    "import re\n",
    "from urllib.request import urlopen\n",
    "from bs4 import BeautifulSoup\n",
    "import csv\n",
    "import pandas as pd\n",
    "import matplotlib.pyplot as plt\n",
    "import os"
   ]
  },
  {
   "cell_type": "markdown",
   "id": "bde46dc2",
   "metadata": {},
   "source": [
    "Za tem definiramo spletno stran iz katere jemljemo podatke in jo z BeautifulSoup uvozimo v spremenljivko `bs_spletna_stran`."
   ]
  },
  {
   "cell_type": "code",
   "execution_count": 202,
   "id": "d808fd8a",
   "metadata": {},
   "outputs": [],
   "source": [
    "link = 'https://seer.cancer.gov'\n",
    "link_podrocja = link + '/statfacts/'\n",
    "\n",
    "spletna_stran = urlopen(link_podrocja).read().decode('UTF-8')\n",
    "bs_spletna_stran = BeautifulSoup(spletna_stran, 'html.parser')"
   ]
  },
  {
   "cell_type": "markdown",
   "id": "bb65b7ae",
   "metadata": {},
   "source": [
    "Na spletni strani pogledamo kje se nahajajo podatki, ki jih želimo. Ugotovimo da so zajeti v razredu `alphaList`. Z metodo `.find()` poiščemo vse podatke v `alphaList` in jih shranimo v spremenljivko seznam_podrocij."
   ]
  },
  {
   "cell_type": "code",
   "execution_count": 203,
   "id": "b0e42470",
   "metadata": {},
   "outputs": [],
   "source": [
    "seznam_podrocij = bs_spletna_stran.find('div', attrs={'class': 'alphaList'})"
   ]
  },
  {
   "cell_type": "markdown",
   "id": "ca45758a",
   "metadata": {},
   "source": [
    "Za boljši pregled ustvarimo prazen slovar `slovar_podrocij` v katerega bomo shranili kot ključ tip raka in pod vrednosti povezave za vsak tip posebaj."
   ]
  },
  {
   "cell_type": "code",
   "execution_count": 204,
   "id": "3458a859",
   "metadata": {},
   "outputs": [],
   "source": [
    "slovar_podrocij = {}"
   ]
  },
  {
   "cell_type": "markdown",
   "id": "c9b617cd",
   "metadata": {},
   "source": [
    "Na spletni strani so nekateri podatki neuporabni in jih zato lahko izpustimo. "
   ]
  },
  {
   "cell_type": "code",
   "execution_count": 205,
   "id": "616e7e06",
   "metadata": {},
   "outputs": [],
   "source": [
    "nepotrebne_teme = [\n",
    "    'Female Breast Subtypes', 'Chronic Lymphocytic Leukemia/Small Lymphocytic Lymphoma (CLL/SLL)',\n",
    "    'Diffuse Large B-Cell Lymphoma (DLBCL)', 'Follicular Lymphoma', 'Lip'\n",
    "]\n",
    "\n",
    "for podrocje in seznam_podrocij.find_all('a'):\n",
    "    if podrocje.get_text() in nepotrebne_teme:\n",
    "        continue\n",
    "    slovar_podrocij[podrocje.get_text()] = podrocje.get('href')"
   ]
  },
  {
   "cell_type": "markdown",
   "id": "f2dbb29f",
   "metadata": {},
   "source": [
    "Za hitrejše in bolj pregledno kodo, bomo napisali funkcijo, ki bom iz spletne strani pobrala potrebne podatke. Ker so podatki shranjeni pod različne značke, bomo znotraj funkcije napisali pomožne funkcije. V vsaki izmed teh funkcij najprej po znački poiščemo podatke in jih dobimo z `.get_text()`. Vse dobljene podatke shranimo v nov prazen slovar `podatki`, kjer ključe določimo z tipom podatka, za vrednosti pa uzamemo poiskani podatek."
   ]
  },
  {
   "cell_type": "code",
   "execution_count": 206,
   "id": "85ca5e3b",
   "metadata": {},
   "outputs": [],
   "source": [
    "def pridobi_podatke(povezava):\n",
    "    podatki = {}\n",
    "\n",
    "    def novi_in_smrtni_primeri(vrsta, podatek):\n",
    "        for p in podatek.find_all('p'):\n",
    "            naslov = p.find('span').get_text()\n",
    "            vrednost = p.find('span').find_next().get_text().replace(',', '')\n",
    "            estimated = re.search(r'^Estimated', naslov)\n",
    "\n",
    "            if estimated:\n",
    "                podatki['prb_' + vrsta] = vrednost\n",
    "            else:\n",
    "                podatki['delez_' + vrsta] = vrednost\n",
    "\n",
    "    def ostali_podatki(kljuc, podatek):\n",
    "        tag = 'td'\n",
    "        if 'povp_starost' in kljuc:\n",
    "            tag = 'strong'\n",
    "        podatek_spol = podatek.find(tag).get_text().replace(',', '')\n",
    "        podatki[kljuc] = podatek_spol\n",
    "\n",
    "    def spletna_povezava(oznaka, tip, sez):\n",
    "        podatki_za_predelavo = spletna_podrocje.find(oznaka, attrs={tip: sez})\n",
    "        return podatki_za_predelavo\n",
    "\n",
    "    link_tema = link + povezava\n",
    "    spletna_podrocje = BeautifulSoup(urlopen(link_tema).read().decode('UTF-8'), 'html.parser')\n",
    "\n",
    "    # novi primeri\n",
    "    if spletna_povezava('div', 'class', ['new', 'glanceBox']):\n",
    "        novi_in_smrtni_primeri('novi', spletna_povezava('div', 'class', ['new', 'glanceBox']))\n",
    "\n",
    "    # smrtni primeri\n",
    "    if spletna_povezava('div', 'class', ['death']):\n",
    "        novi_in_smrtni_primeri('smrtni', spletna_povezava('div', 'class', ['death']))\n",
    "\n",
    "    # podatki o relativnem prezivetje\n",
    "    if spletna_povezava('div', 'class', ['col-lg-4', 'offset-lg-1']):\n",
    "        for div in spletna_povezava('div', 'class', ['col-lg-4', 'offset-lg-1']).find_all('div'):\n",
    "            podatki_prezivetje = div.find('strong').get_text().replace('%', '')\n",
    "            podatki['5_letno_realtivno_prezivetje_stevilo'] = podatki_prezivetje\n",
    "\n",
    "    # podatki o novih primerih moski\n",
    "    if spletna_povezava('table', 'id', ['scrapeTable_04']):\n",
    "        ostali_podatki('vse_rase_moski', spletna_povezava('table', 'id', ['scrapeTable_04']))\n",
    "\n",
    "    # podatki o novih primerih zenske\n",
    "    if spletna_povezava('table', 'id', ['scrapeTable_05']):\n",
    "        ostali_podatki('vse_rase_zenske', spletna_povezava('table', 'id', ['scrapeTable_05']))\n",
    "\n",
    "    # podatki o povprečni starosti za nove primere\n",
    "    if spletna_povezava('div', 'class', ['statSurv']):\n",
    "        ostali_podatki('povp_starost', spletna_povezava('div', 'class', ['statSurv']))\n",
    "\n",
    "    # podatki o smrtnih primerih moski\n",
    "    if spletna_povezava('table', 'id', ['scrapeTable_07']):\n",
    "        ostali_podatki('smrtni_vse_rase_moski', spletna_povezava('table', 'id', ['scrapeTable_07']))\n",
    "\n",
    "    # podatki o smrtnih primerih zenske\n",
    "    if spletna_povezava('table', 'id', ['scrapeTable_08']):\n",
    "        ostali_podatki('smrtni_vse_rase_zenske', spletna_povezava('table', 'id', ['scrapeTable_08']))\n",
    "\n",
    "    # podatki o povprecni starosti smrti\n",
    "    if spletna_povezava('div', 'class', ['col-lg-4', 'offset-lg-1']):\n",
    "        ostali_podatki('povp_starost_smrti', spletna_povezava('div', 'class', ['statDie']))\n",
    "\n",
    "    return podatki"
   ]
  },
  {
   "cell_type": "markdown",
   "id": "2812bd25",
   "metadata": {},
   "source": [
    "Za boljšo preglednost, podatke v slovarju `podatki` spravimo v prvotni slovar, kjer so ključi tipi raka. Tako imamo v slovarju za vsak tip raka posebaj zbrane vse podatke."
   ]
  },
  {
   "cell_type": "code",
   "execution_count": null,
   "id": "25bd202d",
   "metadata": {},
   "outputs": [],
   "source": [
    "for k, v in slovar_podrocij.items():\n",
    "    slovar_podrocij[k] = pridobi_podatke(v)"
   ]
  },
  {
   "cell_type": "markdown",
   "id": "465fb44e",
   "metadata": {},
   "source": [
    "Zdaj ustvarimo mapo, kamor bomo shranjevali izrisane grafe. To nam omogoča boljšo preglednost."
   ]
  },
  {
   "cell_type": "code",
   "execution_count": null,
   "id": "197f3d31",
   "metadata": {},
   "outputs": [],
   "source": [
    "mapa_grafi = 'grafi'\n",
    "mapa_obstaja = os.path.exists(mapa_grafi)\n",
    "if not mapa_obstaja:\n",
    "    os.makedirs(mapa_grafi)\n",
    "mapa_grafi += '/'"
   ]
  },
  {
   "cell_type": "markdown",
   "id": "49286725",
   "metadata": {},
   "source": [
    "Ker se iz slovarja zelo težko znajdemo bomo raje naredili csv datoteko, kjer bodo podatki bolj razvidni. Zopet bomo definiral funkcijo in sicer `ustvari_csv`, kjer bomo najprej odpli datoteko, nato ustvarimo glavo csv datoteko, to so imena stolpcev naše tabele. Za tem bomo z zanko `for` šli čez vse ključe in vrednosti v slovarju. Tu si pomagamo z metodo `.get()` z katero dobimo željeno vrednost iz slovarja. "
   ]
  },
  {
   "cell_type": "code",
   "execution_count": null,
   "id": "077c427c",
   "metadata": {},
   "outputs": [],
   "source": [
    "csv_ime_datoteke = 'output.csv'\n",
    "\n",
    "\n",
    "def ustvari_csv(ime_datoteke):\n",
    "    with open(ime_datoteke, mode='w', newline='') as file:\n",
    "        writer = csv.writer(file)\n",
    "\n",
    "        header = ['Type Of Cancer', 'Estimated New Cases in 2023', '(%) of All New Cancer Cases',\n",
    "                  'Estimated Deaths in 2023',\n",
    "                  '(%) of All Cancer Deaths', '5-Year Relative Survival (%)',\n",
    "                  'New Cases Male (%)', 'New Cases Female (%)', 'Median Age At Diagnosis',\n",
    "                  'Death Cases Male (%)', 'Death Cases Female (%)', 'Median Age At Death']\n",
    "        writer.writerow(header)\n",
    "\n",
    "        for name, values in slovar_podrocij.items():\n",
    "            prb_novi = values.get('prb_novi')\n",
    "            delez_novi = values.get('delez_novi')\n",
    "            prb_smrti = values.get('prb_smrtni')\n",
    "            delez_smrti = values.get('delez_smrtni')\n",
    "            relativno_prezivetje_stevilo = values.get('5_letno_realtivno_prezivetje_stevilo')\n",
    "            vse_rase_m = values.get('vse_rase_moski')\n",
    "            vse_rase_z = values.get('vse_rase_zenske')\n",
    "            povp_starost = values.get('povp_starost')\n",
    "            smrtni_vse_rase_m = values.get('smrtni_vse_rase_moski')\n",
    "            smrtni_vse_rase_z = values.get('smrtni_vse_rase_zenske')\n",
    "            povp_starost_smrti = values.get('povp_starost_smrti')\n",
    "\n",
    "            row = [name, prb_novi, delez_novi, prb_smrti, delez_smrti, relativno_prezivetje_stevilo,\n",
    "                   vse_rase_m, vse_rase_z, povp_starost, smrtni_vse_rase_m,\n",
    "                   smrtni_vse_rase_z, povp_starost_smrti]\n",
    "            writer.writerow(row)\n"
   ]
  },
  {
   "cell_type": "markdown",
   "id": "637e1e1a",
   "metadata": {},
   "source": [
    "Zadnja stvar, ki jo moramo narediti je ustvariti csv datoteko. To naredimo tako, da poženemo našo funkcijo `ustvari_csv`."
   ]
  },
  {
   "cell_type": "code",
   "execution_count": null,
   "id": "fcc934cd",
   "metadata": {},
   "outputs": [],
   "source": [
    "ustvari_csv(csv_ime_datoteke)"
   ]
  },
  {
   "cell_type": "markdown",
   "id": "71f6e414",
   "metadata": {},
   "source": [
    "Za anlizo podatkov uporabimo knjižnjico `pandas`. Z `pd.read_csv()` preberemo ustvarjeno csv datoteko. Opazimo, da nekateri podatki mankajo oziroma imajo podatek v obliki teksta. Za lažjo obdelavo podatkov te nadomestili z vrednostjo 0 in zamenjamo tip podatka v numeričnega."
   ]
  },
  {
   "cell_type": "code",
   "execution_count": null,
   "id": "7da56359",
   "metadata": {},
   "outputs": [],
   "source": [
    "def predelaj_csv_podatke(ime_datoteke, zapolni_privzete=False):\n",
    "    predelani_podatki = pd.read_csv(ime_datoteke, encoding='cp1252', index_col='Type Of Cancer')\n",
    "    if zapolni_privzete:\n",
    "        predelani_podatki = predelani_podatki.fillna(0)\n",
    "        predelani_podatki.replace('Sex-specific cancer type', 0, inplace=True)\n",
    "\n",
    "    # številčne podatke spremenimo v numerične za lažjo obdelavo\n",
    "    stolpci = ['Estimated New Cases in 2023', 'Estimated Deaths in 2023']\n",
    "    predelani_podatki[stolpci] = predelani_podatki[stolpci].applymap(pd.to_numeric, errors='coerce').astype(int)\n",
    "\n",
    "    return predelani_podatki"
   ]
  },
  {
   "cell_type": "markdown",
   "id": "e0f02f94",
   "metadata": {},
   "source": [
    "Uporabimo funkcijo in shranimo pod spremenljivko."
   ]
  },
  {
   "cell_type": "code",
   "execution_count": null,
   "id": "bdabd2a6",
   "metadata": {},
   "outputs": [],
   "source": [
    "vsi_podatki = predelaj_csv_podatke(csv_ime_datoteke, zapolni_privzete=True)"
   ]
  },
  {
   "cell_type": "markdown",
   "id": "ce9f9d60",
   "metadata": {},
   "source": [
    "Zdaj ko so podatki v ustrezni obliki jih lahko filtriramo. Najprej bomo prikazali pričakovano število novih primerov. Te uredimo po velikosti z `.sort_values()`."
   ]
  },
  {
   "cell_type": "code",
   "execution_count": null,
   "id": "4bdffac5",
   "metadata": {},
   "outputs": [],
   "source": [
    "pricakovani_novi_primeri = vsi_podatki[['Estimated New Cases in 2023']].sort_values('Estimated New Cases in 2023',\n",
    "                                                                               ascending=False)"
   ]
  },
  {
   "cell_type": "markdown",
   "id": "3fa10e6d",
   "metadata": {},
   "source": [
    "Odstranimo vse vrstice, kjer je 0."
   ]
  },
  {
   "cell_type": "code",
   "execution_count": null,
   "id": "c171a20b",
   "metadata": {},
   "outputs": [],
   "source": [
    "pricakovani_novi_primeri = pricakovani_novi_primeri[pricakovani_novi_primeri['Estimated New Cases in 2023'] != 0]"
   ]
  },
  {
   "cell_type": "markdown",
   "id": "ed7028b1",
   "metadata": {},
   "source": [
    "V tabeli so tako prikazani podatki za pričakovano število novih primerov za vsak tip raka posebaj. Ker smo vrednosti uredili po velikosti, lahko iz tabele preberemo kateri tip raka je najpogostejši torej rak dojk."
   ]
  },
  {
   "cell_type": "code",
   "execution_count": null,
   "id": "3256f757",
   "metadata": {},
   "outputs": [],
   "source": [
    "print(pricakovani_novi_primeri)"
   ]
  },
  {
   "cell_type": "markdown",
   "id": "a96eee88",
   "metadata": {},
   "source": [
    "Enako naredimo še za smrtne primere."
   ]
  },
  {
   "cell_type": "code",
   "execution_count": null,
   "id": "156afda6",
   "metadata": {},
   "outputs": [],
   "source": [
    "pricakovani_smrtni_primeri = vsi_podatki[['Estimated Deaths in 2023']].sort_values('Estimated Deaths in 2023',\n",
    "                                                                              ascending=False)\n",
    "pricakovani_smrtni_primeri = pricakovani_smrtni_primeri[pricakovani_smrtni_primeri['Estimated Deaths in 2023'] != 0]"
   ]
  },
  {
   "cell_type": "markdown",
   "id": "75aa236a",
   "metadata": {},
   "source": [
    "Naslednja tabela je zelo podobna prejšnji, le da so tu prikazani podatki za smrtne primere. "
   ]
  },
  {
   "cell_type": "code",
   "execution_count": null,
   "id": "3c0735e8",
   "metadata": {},
   "outputs": [],
   "source": [
    "print(pricakovani_smrtni_primeri)"
   ]
  },
  {
   "cell_type": "markdown",
   "id": "d9ef179f",
   "metadata": {},
   "source": [
    "Poleg podatkov o novih in smrtnih primerih, je dobro vedeti pri katerem spolu je določen tip pogostejši. V naslednjih tabelah so prikazani podatki o odkritju novih primerov pri moških in ženskah ter povprečna starost pri kateri odkrijejo specifičen tip raka. Ponekod se pojavi `\\`, to zato ker so določeni tipi specifični za določen spol recimo rak materničnega vrata."
   ]
  },
  {
   "cell_type": "markdown",
   "id": "f27fc4ee",
   "metadata": {},
   "source": [
    "Ta tabela prikazuje podatke o novih primerih odkritja raka pri moških v odstotkih."
   ]
  },
  {
   "cell_type": "code",
   "execution_count": null,
   "id": "fbbad7f1",
   "metadata": {},
   "outputs": [],
   "source": [
    "kdo_dobi_tega_raka_m = vsi_podatki[['New Cases Male (%)']].replace(0, '/')\n",
    "print(kdo_dobi_tega_raka_m)"
   ]
  },
  {
   "cell_type": "markdown",
   "id": "b12537bd",
   "metadata": {},
   "source": [
    "Ta tabela prikazuje podatke o novih primerih odkritja raka pri ženskah v odstotkih."
   ]
  },
  {
   "cell_type": "code",
   "execution_count": null,
   "id": "b190fcfa",
   "metadata": {},
   "outputs": [],
   "source": [
    "kdo_dobi_tega_raka_z = vsi_podatki[['New Cases Female (%)']].replace(0, '/')\n",
    "print(kdo_dobi_tega_raka_z)"
   ]
  },
  {
   "cell_type": "markdown",
   "id": "838d9f20",
   "metadata": {},
   "source": [
    "Ta tabela prikazuje podatke o povprečni starosti pri kateri odkrijejo določen tip raka."
   ]
  },
  {
   "cell_type": "code",
   "execution_count": null,
   "id": "48e98302",
   "metadata": {},
   "outputs": [],
   "source": [
    "povp_starost_diagnoze = vsi_podatki[['Median Age At Diagnosis']].replace(0, '/')\n",
    "print(povp_starost_diagnoze)"
   ]
  },
  {
   "cell_type": "markdown",
   "id": "ea2cac57",
   "metadata": {},
   "source": [
    "Seveda nas poleg odkritih novih primerov zanima še kako je z smrtnostjo, zato enako naredimo še za smrtne primere."
   ]
  },
  {
   "cell_type": "markdown",
   "id": "bfb10ca5",
   "metadata": {},
   "source": [
    "Ta tabela prikazuje podatke o smrtnih primerih odkritja raka pri moških v odstotkih."
   ]
  },
  {
   "cell_type": "code",
   "execution_count": null,
   "id": "f111f7e3",
   "metadata": {},
   "outputs": [],
   "source": [
    "kdo_umre_od_raka_m = vsi_podatki[['Death Cases Male (%)']].replace(0, '/')\n",
    "print(kdo_umre_od_raka_m)"
   ]
  },
  {
   "cell_type": "markdown",
   "id": "57b6d792",
   "metadata": {},
   "source": [
    "Ta tabela prikazuje podatke o smrtnih primerih odkritja raka pri ženskah v odstotkih."
   ]
  },
  {
   "cell_type": "code",
   "execution_count": null,
   "id": "4e54a225",
   "metadata": {},
   "outputs": [],
   "source": [
    "kdo_umre_od_raka_z = vsi_podatki[['Death Cases Female (%)']].replace(0, '/')\n",
    "print(kdo_umre_od_raka_z)"
   ]
  },
  {
   "cell_type": "markdown",
   "id": "c787dfcb",
   "metadata": {},
   "source": [
    "Ta tabela prikazuje podatke o povprečni starosti pri kateri oseba umre za določenim tipom raka."
   ]
  },
  {
   "cell_type": "code",
   "execution_count": null,
   "id": "9182b784",
   "metadata": {},
   "outputs": [],
   "source": [
    "povp_starost_smrti = vsi_podatki[['Median Age At Death']].replace(0, '/')\n",
    "print(povp_starost_smrti)"
   ]
  },
  {
   "cell_type": "markdown",
   "id": "11e699bf",
   "metadata": {},
   "source": [
    "V spodaj prikazani tabeli so podatki o 5 letni stopnji preživetja izraženi v odstotkih."
   ]
  },
  {
   "cell_type": "code",
   "execution_count": null,
   "id": "6dbdb8d8",
   "metadata": {},
   "outputs": [],
   "source": [
    "moznost_prezivetja = vsi_podatki[['5-Year Relative Survival (%)']].replace(0, '/')\n",
    "print(moznost_prezivetja)"
   ]
  },
  {
   "cell_type": "markdown",
   "id": "4221be23",
   "metadata": {},
   "source": [
    "Podatke želimo predstaviti tudi grafično, zato definiramo funkcijo za generiranje grafov."
   ]
  },
  {
   "cell_type": "code",
   "execution_count": null,
   "id": "888a63be",
   "metadata": {},
   "outputs": [],
   "source": [
    "def generiraj_graf(naslov, vrednosti):\n",
    "    ax1 = vrednosti.plot(kind='barh', legend=False, figsize=(25, 8), width=0.8, color='#4169E1')\n",
    "    ax1.set_title(naslov)\n",
    "    ax1.set_ylabel(' ')\n",
    "    plt.savefig(mapa_grafi + naslov.replace(' ', '_') + '.jpg', format='jpeg')\n",
    "    plt.close()"
   ]
  },
  {
   "cell_type": "code",
   "execution_count": null,
   "id": "9be1ea76",
   "metadata": {},
   "outputs": [],
   "source": [
    "generiraj_graf('Estimated New Cases in 2023', pricakovani_novi_primeri)"
   ]
  },
  {
   "cell_type": "markdown",
   "id": "45274243",
   "metadata": {},
   "source": [
    "Prvi graf prikazuje pričakovane nove primere v letu 2023. \n",
    "![novi primeri](grafi/Estimated_New_Cases_in_2023.jpg)"
   ]
  },
  {
   "cell_type": "code",
   "execution_count": null,
   "id": "ef4250da",
   "metadata": {},
   "outputs": [],
   "source": [
    "generiraj_graf('Estimated Deaths in 2023', pricakovani_smrtni_primeri)"
   ]
  },
  {
   "cell_type": "markdown",
   "id": "e2e2a7f3",
   "metadata": {},
   "source": [
    "Drugi graf prikazuje pričakovane smrtne primere v letu 2023.\n",
    "![smrtni primeri](grafi/Estimated_Deaths_in_2023.jpg)"
   ]
  },
  {
   "cell_type": "markdown",
   "id": "ea7162a2",
   "metadata": {},
   "source": [
    "Enako naredimo še za generiranje grafov, kjer bo prikazana primerjava med šteilom moških in številom žensk, ki dobijo oziroma umrejo za rakom. Za vsak tip raka se bo posebaj izrisal graf, ki bo prikaz delež moških in delež žensk pri katerem so odkrili raka oziroma so umrli za rakom."
   ]
  },
  {
   "cell_type": "code",
   "execution_count": null,
   "id": "075a7233",
   "metadata": {},
   "outputs": [],
   "source": [
    "def generiraj_graf_primerjave(v1, v2, naslov):\n",
    "    naslov = naslov.replace(' ', '_')\n",
    "    primerjava = vsi_podatki[[v1, v2]]\n",
    "    primerjava.loc[:, [v1, v2]] = primerjava[[v1, v2]].applymap(pd.to_numeric, errors='coerce')\n",
    "\n",
    "    for index, row in primerjava.iterrows():\n",
    "        values = row.values\n",
    "\n",
    "        plt.bar(range(len(values)), values, color=['#A4D3EE', '#FFAEB9'])\n",
    "\n",
    "        plt.ylim(bottom=0)\n",
    "        plt.title(f'Type of cancer: {index}')\n",
    "\n",
    "        plt.savefig(f'{mapa_grafi}{naslov}{index}.jpg', format='jpeg')\n",
    "        plt.clf()\n",
    "        plt.close()"
   ]
  },
  {
   "cell_type": "markdown",
   "id": "d85261bb",
   "metadata": {},
   "source": [
    "Generiramo grafe tako, da uporabimo funkcijo."
   ]
  },
  {
   "cell_type": "code",
   "execution_count": null,
   "id": "00ee9f98",
   "metadata": {},
   "outputs": [],
   "source": [
    "generiraj_graf_primerjave('New Cases Male (%)', 'New Cases Female (%)', 'bar_plot_new_cases_')"
   ]
  },
  {
   "cell_type": "markdown",
   "id": "1adcd3e1",
   "metadata": {},
   "source": [
    "Spodnji graf nam prikazuje primerjavo med deležem žensk in moških, ki jim diagnosticirajo raka jezika."
   ]
  },
  {
   "cell_type": "markdown",
   "id": "bb4f4a41",
   "metadata": {},
   "source": [
    "![rak jezika](grafi/bar_plot_new_cases_Tongue.jpg)"
   ]
  },
  {
   "cell_type": "markdown",
   "id": "4cc304c9",
   "metadata": {},
   "source": [
    "Generiramo še grafe za smrtne primere."
   ]
  },
  {
   "cell_type": "code",
   "execution_count": null,
   "id": "eed0160a",
   "metadata": {},
   "outputs": [],
   "source": [
    "generiraj_graf_primerjave('Death Cases Male (%)', 'Death Cases Female (%)', 'bar_plot_death_cases_')"
   ]
  },
  {
   "cell_type": "markdown",
   "id": "f0d284dd",
   "metadata": {},
   "source": [
    "Zopet si lahko pogledamo primer enega izmed grafov. Spodnji graf nam prikaže delež žensk in moških, ki umrejo za rakom trebušne slinavke."
   ]
  },
  {
   "cell_type": "markdown",
   "id": "594d6a92",
   "metadata": {},
   "source": [
    "![rak trebušne slinavke](grafi/bar_plot_death_cases_Pancreas.jpg)"
   ]
  },
  {
   "cell_type": "markdown",
   "id": "00f9cbac",
   "metadata": {},
   "source": [
    "Na koncu bomo predstavili še kakšen delež predstavlja določen tip raka v novih primerih in pa v smrtnih primerih. Prvo kar moramo narediti je filtrirati podatke, saj niso vsi uporabni."
   ]
  },
  {
   "cell_type": "code",
   "execution_count": null,
   "id": "699c143b",
   "metadata": {},
   "outputs": [],
   "source": [
    "procenti = vsi_podatki[['(%) of All New Cancer Cases', '(%) of All Cancer Deaths']]\n",
    "procenti = procenti[procenti['(%) of All New Cancer Cases'] != 0]\n",
    "\n",
    "procenti.loc[:, '(%) of All New Cancer Cases'] = procenti['(%) of All New Cancer Cases'].str.replace('%', '')\n",
    "procenti.loc[:, '(%) of All Cancer Deaths'] = procenti['(%) of All Cancer Deaths'].str.replace('%', '')\n",
    "procenti.loc[:, ['(%) of All New Cancer Cases', '(%) of All Cancer Deaths']] = procenti[\n",
    "    ['(%) of All New Cancer Cases', '(%) of All Cancer Deaths']].applymap(pd.to_numeric, errors='coerce')\n",
    "\n",
    "procenti_novi = procenti[['(%) of All New Cancer Cases']]\n",
    "procenti_smrtni = procenti[['(%) of All Cancer Deaths']]"
   ]
  },
  {
   "cell_type": "markdown",
   "id": "de1b1bf8",
   "metadata": {},
   "source": [
    "Ker smo že napisali funkcijo za generiranje grafov, jo lahko tu samo pokličemo in vanjo ustavimo ustrezne podatke."
   ]
  },
  {
   "cell_type": "code",
   "execution_count": null,
   "id": "3ecc2798",
   "metadata": {},
   "outputs": [],
   "source": [
    "generiraj_graf('(%) of All New Cancer Cases', procenti_novi)\n",
    "generiraj_graf('(%) of All Cancer Deaths', procenti_smrtni)"
   ]
  },
  {
   "cell_type": "markdown",
   "id": "4d17b3f6",
   "metadata": {},
   "source": [
    "Prvi graf prikazuje delež določenega tipa raka v vseh novih primerih."
   ]
  },
  {
   "cell_type": "markdown",
   "id": "5f0864a6",
   "metadata": {},
   "source": [
    "![delež novi primeri](grafi/(%)_of_All_New_Cancer_Cases.jpg)"
   ]
  },
  {
   "cell_type": "markdown",
   "id": "8931176f",
   "metadata": {},
   "source": [
    "Drugi graf prikazuje delež določenega tipa raka v vseh smrtnih primerih."
   ]
  },
  {
   "cell_type": "markdown",
   "id": "a7f5e476",
   "metadata": {},
   "source": [
    "![delež smrtni primeri](grafi/(%)_of_All_Cancer_Deaths.jpg)"
   ]
  }
 ],
 "metadata": {
  "kernelspec": {
   "display_name": "Python 3 (ipykernel)",
   "language": "python",
   "name": "python3"
  },
  "language_info": {
   "codemirror_mode": {
    "name": "ipython",
    "version": 3
   },
   "file_extension": ".py",
   "mimetype": "text/x-python",
   "name": "python",
   "nbconvert_exporter": "python",
   "pygments_lexer": "ipython3",
   "version": "3.10.2"
  }
 },
 "nbformat": 4,
 "nbformat_minor": 5
}
