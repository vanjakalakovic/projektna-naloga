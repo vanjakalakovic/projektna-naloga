{
 "cells": [
  {
   "cell_type": "markdown",
   "id": "1e149019",
   "metadata": {},
   "source": [
    "# Projektna naloga"
   ]
  },
  {
   "cell_type": "markdown",
   "id": "8b0e1c64",
   "metadata": {},
   "source": [
    "Za projektno nalogo sem se odločila, da bom analizirala podatke o rakavih obolenjih. Glavni cilj te projektne naloge je, da temeljito analizira statistične podatke posameznega tipa raka ter te podatke ustrezno in razumljivo predstavi."
   ]
  },
  {
   "cell_type": "markdown",
   "id": "07f252f0",
   "metadata": {},
   "source": [
    "Najprej sem uvozila knjižnjice, ki sem jih potrebovala."
   ]
  },
  {
   "cell_type": "code",
   "execution_count": 15,
   "id": "ebd6ddac",
   "metadata": {},
   "outputs": [],
   "source": [
    "import re\n",
    "from urllib.request import urlopen\n",
    "from bs4 import BeautifulSoup\n",
    "import csv\n",
    "import pandas as pd\n",
    "import matplotlib.pyplot as plt\n",
    "import os"
   ]
  },
  {
   "cell_type": "markdown",
   "id": "01cd3edc",
   "metadata": {},
   "source": [
    "Za tem sem definirala spletno stran iz katere sem jemala podatke in jo z BeautifulSoup uvozila v spremenljivko `bs_spletna_stran`."
   ]
  },
  {
   "cell_type": "code",
   "execution_count": 16,
   "id": "2df3c0c8",
   "metadata": {},
   "outputs": [],
   "source": [
    "link = 'https://seer.cancer.gov'\n",
    "link_podrocja = link + '/statfacts/'\n",
    "\n",
    "spletna_stran = urlopen(link_podrocja).read().decode('UTF-8')\n",
    "bs_spletna_stran = BeautifulSoup(spletna_stran, 'html.parser')"
   ]
  },
  {
   "cell_type": "markdown",
   "id": "b30be0f6",
   "metadata": {},
   "source": [
    "Iz spletne strani sem poiskala podatke, ki so zajeti v razredu alphaList."
   ]
  },
  {
   "cell_type": "code",
   "execution_count": 18,
   "id": "dab54147",
   "metadata": {},
   "outputs": [],
   "source": [
    "seznam_podrocij = bs_spletna_stran.find('div', attrs={'class': 'alphaList'})"
   ]
  },
  {
   "cell_type": "markdown",
   "id": "9d93803d",
   "metadata": {},
   "source": [
    "Za shranjevanje podatkov sem ustvarila prazen slovar `slovar_podrocij`."
   ]
  },
  {
   "cell_type": "code",
   "execution_count": 19,
   "id": "9256465e",
   "metadata": {},
   "outputs": [],
   "source": [
    "slovar_podrocij = {}"
   ]
  },
  {
   "cell_type": "markdown",
   "id": "b98db112",
   "metadata": {},
   "source": [
    "Na spletni strani so nekateri podatki neuporabni, zato sem jih izpustila."
   ]
  },
  {
   "cell_type": "code",
   "execution_count": 20,
   "id": "ceae64cc",
   "metadata": {},
   "outputs": [],
   "source": [
    "nepotrebne_teme = [\n",
    "    'Female Breast Subtypes', 'Chronic Lymphocytic Leukemia/Small Lymphocytic Lymphoma (CLL/SLL)',\n",
    "    'Diffuse Large B-Cell Lymphoma (DLBCL)', 'Follicular Lymphoma', 'Lip'\n",
    "]\n",
    "\n",
    "for podrocje in seznam_podrocij.find_all('a'):\n",
    "    if podrocje.get_text() in nepotrebne_teme:\n",
    "        continue\n",
    "    slovar_podrocij[podrocje.get_text()] = podrocje.get('href')"
   ]
  },
  {
   "cell_type": "markdown",
   "id": "6ecf1984",
   "metadata": {},
   "source": [
    "Za lažje zbiranje podatkov, ki jih potrebujem za analizo sem napisala funkcijo. Znotraj same funkcije sem definirala še tri druge funkcije in s tem skrajšala kodo. V vsaki od funkcij sem poiskala podatke po njihovih značkah in jih dala v prazen slovar `podatki`."
   ]
  },
  {
   "cell_type": "code",
   "execution_count": 22,
   "id": "41beac91",
   "metadata": {},
   "outputs": [],
   "source": [
    "def pridobi_podatke(povezava):\n",
    "    podatki = {}\n",
    "\n",
    "    def novi_in_smrtni_primeri(vrsta, podatek):\n",
    "        for p in podatek.find_all('p'):\n",
    "            naslov = p.find('span').get_text()\n",
    "            vrednost = p.find('span').find_next().get_text().replace(',', '')\n",
    "            estimated = re.search(r'^Estimated', naslov)\n",
    "\n",
    "            if estimated:\n",
    "                podatki['prb_' + vrsta] = vrednost\n",
    "            else:\n",
    "                podatki['delez_' + vrsta] = vrednost\n",
    "\n",
    "    def ostali_podatki(kljuc, podatek):\n",
    "        tag = 'td'\n",
    "        if 'povp_starost' in kljuc:\n",
    "            tag = 'strong'\n",
    "        podatek_spol = podatek.find(tag).get_text().replace(',', '')\n",
    "        podatki[kljuc] = podatek_spol\n",
    "\n",
    "    def spletna_povezava(oznaka, tip, sez):\n",
    "        podatki_za_predelavo = spletna_podrocje.find(oznaka, attrs={tip: sez})\n",
    "        return podatki_za_predelavo\n",
    "\n",
    "    link_tema = link + povezava\n",
    "    spletna_podrocje = BeautifulSoup(urlopen(link_tema).read().decode('UTF-8'), 'html.parser')\n",
    "\n",
    "    # novi primeri\n",
    "    if spletna_povezava('div', 'class', ['new', 'glanceBox']):\n",
    "        novi_in_smrtni_primeri('novi', spletna_povezava('div', 'class', ['new', 'glanceBox']))\n",
    "\n",
    "    # smrtni primeri\n",
    "    if spletna_povezava('div', 'class', ['death']):\n",
    "        novi_in_smrtni_primeri('smrtni', spletna_povezava('div', 'class', ['death']))\n",
    "\n",
    "    # podatki o relativnem prezivetje\n",
    "    if spletna_povezava('div', 'class', ['col-lg-4', 'offset-lg-1']):\n",
    "        for div in spletna_povezava('div', 'class', ['col-lg-4', 'offset-lg-1']).find_all('div'):\n",
    "            podatki_prezivetje = div.find('strong').get_text()\n",
    "            podatki['5_letno_realtivno_prezivetje_stevilo'] = podatki_prezivetje\n",
    "\n",
    "    # podatki o novih primerih moski\n",
    "    if spletna_povezava('table', 'id', ['scrapeTable_04']):\n",
    "        ostali_podatki('vse_rase_moski', spletna_povezava('table', 'id', ['scrapeTable_04']))\n",
    "\n",
    "    # podatki o novih primerih zenske\n",
    "    if spletna_povezava('table', 'id', ['scrapeTable_05']):\n",
    "        ostali_podatki('vse_rase_zenske', spletna_povezava('table', 'id', ['scrapeTable_05']))\n",
    "\n",
    "    # podatki o povprečni starosti za nove primere\n",
    "    if spletna_povezava('div', 'class', ['statSurv']):\n",
    "        ostali_podatki('povp_starost', spletna_povezava('div', 'class', ['statSurv']))\n",
    "\n",
    "    # podatki o smrtnih primerih moski\n",
    "    if spletna_povezava('table', 'id', ['scrapeTable_07']):\n",
    "        ostali_podatki('smrtni_vse_rase_moski', spletna_povezava('table', 'id', ['scrapeTable_07']))\n",
    "\n",
    "    # podatki o smrtnih primerih zenske\n",
    "    if spletna_povezava('table', 'id', ['scrapeTable_08']):\n",
    "        ostali_podatki('smrtni_vse_rase_zenske', spletna_povezava('table', 'id', ['scrapeTable_08']))\n",
    "\n",
    "    # podatki o povprecni starosti smrti\n",
    "    if spletna_povezava('div', 'class', ['col-lg-4', 'offset-lg-1']):\n",
    "        ostali_podatki('povp_starost_smrti', spletna_povezava('div', 'class', ['statDie']))\n",
    "\n",
    "    return podatki"
   ]
  },
  {
   "cell_type": "markdown",
   "id": "3de69b07",
   "metadata": {},
   "source": [
    "Vse pridobljene podatke sem shranila v prvotni slovar."
   ]
  },
  {
   "cell_type": "code",
   "execution_count": 23,
   "id": "25ffab24",
   "metadata": {},
   "outputs": [],
   "source": [
    "for k, v in slovar_podrocij.items():\n",
    "    slovar_podrocij[k] = pridobi_podatke(v)"
   ]
  },
  {
   "cell_type": "markdown",
   "id": "d1cffe4a",
   "metadata": {},
   "source": [
    "Ustvarila sem mapo kamor bom kasneje shranjevala grafe."
   ]
  },
  {
   "cell_type": "code",
   "execution_count": 26,
   "id": "5d5249d2",
   "metadata": {},
   "outputs": [],
   "source": [
    "mapa_grafi = 'grafi'\n",
    "mapa_obstaja = os.path.exists(mapa_grafi)\n",
    "if not mapa_obstaja:\n",
    "    os.makedirs(mapa_grafi)\n",
    "mapa_grafi += '/'"
   ]
  },
  {
   "cell_type": "markdown",
   "id": "86a9de7e",
   "metadata": {},
   "source": [
    "Po tem sem definirala funkcijo za generiranje csv datoteke,kjer sem ustvarila imena stolpcev shranjena pod `header`. S pomočjo zanke `for` sem po slovarju poiskala željene podatke in jih spravila v stolpce. "
   ]
  },
  {
   "cell_type": "code",
   "execution_count": 28,
   "id": "ff1a694a",
   "metadata": {},
   "outputs": [],
   "source": [
    "csv_ime_datoteke = 'output.csv'\n",
    "\n",
    "def ustvari_csv(ime_datoteke):\n",
    "    with open(ime_datoteke, mode='w', newline='') as file:\n",
    "        writer = csv.writer(file)\n",
    "\n",
    "        header = ['Type Of Cancer', 'Estimated New Cases in 2023', '(%) of All New Cancer Cases',\n",
    "                  'Estimated Deaths in 2023',\n",
    "                  '(%) of All Cancer Deaths', '5-Year Relative Survival ',\n",
    "                  'New Cases Male', 'New Cases Female', 'Median Age At Diagnosis',\n",
    "                  'Death Cases Male', 'Death Cases Female', 'Median Age At Death']\n",
    "        writer.writerow(header)\n",
    "\n",
    "        for name, values in slovar_podrocij.items():\n",
    "            prb_novi = values.get('prb_novi')\n",
    "            delez_novi = values.get('delez_novi')\n",
    "            prb_smrti = values.get('prb_smrtni')\n",
    "            delez_smrti = values.get('delez_smrtni')\n",
    "            relativno_prezivetje_stevilo = values.get('5_letno_realtivno_prezivetje_stevilo')\n",
    "            vse_rase_m = values.get('vse_rase_moski')\n",
    "            vse_rase_z = values.get('vse_rase_zenske')\n",
    "            povp_starost = values.get('povp_starost')\n",
    "            smrtni_vse_rase_m = values.get('smrtni_vse_rase_moski')\n",
    "            smrtni_vse_rase_z = values.get('smrtni_vse_rase_zenske')\n",
    "            povp_starost_smrti = values.get('povp_starost_smrti')\n",
    "\n",
    "            row = [name, prb_novi, delez_novi, prb_smrti, delez_smrti, relativno_prezivetje_stevilo,\n",
    "                   vse_rase_m, vse_rase_z, povp_starost, smrtni_vse_rase_m,\n",
    "                   smrtni_vse_rase_z, povp_starost_smrti]\n",
    "            writer.writerow(row)"
   ]
  },
  {
   "cell_type": "markdown",
   "id": "4065cdc8",
   "metadata": {},
   "source": [
    "Zadnja stvar, ki jo moramo narediti je ustvariti csv datoteko."
   ]
  },
  {
   "cell_type": "code",
   "execution_count": 31,
   "id": "09bb88f0",
   "metadata": {},
   "outputs": [],
   "source": [
    "ustvari_csv(csv_ime_datoteke)"
   ]
  },
  {
   "cell_type": "markdown",
   "id": "956dcaa3",
   "metadata": {},
   "source": [
    "Ker je treba podatke še analizirati, si pomagamo s `pandas`. Definiramo funkcijo s katero predelamo csv datoteko. Znotraj funkcije zamenjamo neustrezne podatke z 0 in določene stolpce spremenimo v numerične."
   ]
  },
  {
   "cell_type": "code",
   "execution_count": 32,
   "id": "e5ecf2ce",
   "metadata": {},
   "outputs": [],
   "source": [
    "def predelaj_csv_podatke(ime_datoteke, zapolni_privzete=False):\n",
    "    predelani_podatki = pd.read_csv(ime_datoteke, encoding='cp1252', index_col='Type Of Cancer')\n",
    "    if zapolni_privzete:\n",
    "        predelani_podatki = predelani_podatki.fillna(0)\n",
    "        predelani_podatki.replace('Sex-specific cancer type', 0, inplace=True)\n",
    "\n",
    "    # številčne podatke spremenimo v numerične za lažjo obdelavo\n",
    "    stolpci = ['Estimated New Cases in 2023', 'Estimated Deaths in 2023']\n",
    "    predelani_podatki[stolpci] = predelani_podatki[stolpci].applymap(pd.to_numeric, errors='coerce')\n",
    "\n",
    "    return predelani_podatki"
   ]
  },
  {
   "cell_type": "markdown",
   "id": "22bf8b89",
   "metadata": {},
   "source": [
    "Uporabimo funkcijo in jih shranimo pod spremenljivko."
   ]
  },
  {
   "cell_type": "code",
   "execution_count": 33,
   "id": "3ffb90cf",
   "metadata": {},
   "outputs": [],
   "source": [
    "vsi_podatki = predelaj_csv_podatke(csv_ime_datoteke, zapolni_privzete=True)"
   ]
  },
  {
   "cell_type": "markdown",
   "id": "0eb31c4d",
   "metadata": {},
   "source": [
    "Za predstavitev podatkov, najprej uredimo stolpce po velikosti od največjega do najmanjšega."
   ]
  },
  {
   "cell_type": "code",
   "execution_count": 39,
   "id": "30f5e8b1",
   "metadata": {},
   "outputs": [],
   "source": [
    "pricakovani_novi_primeri = vsi_podatki[['Estimated New Cases in 2023']].sort_values('Estimated New Cases in 2023',\n",
    "                                                                               ascending=False)"
   ]
  },
  {
   "cell_type": "markdown",
   "id": "f7f262c0",
   "metadata": {},
   "source": [
    "Odstranimo vse vrstice, kjer je 0."
   ]
  },
  {
   "cell_type": "code",
   "execution_count": 40,
   "id": "a439f490",
   "metadata": {},
   "outputs": [],
   "source": [
    "pricakovani_novi_primeri = pricakovani_novi_primeri[pricakovani_novi_primeri['Estimated New Cases in 2023'] != 0]"
   ]
  },
  {
   "cell_type": "markdown",
   "id": "d4957348",
   "metadata": {},
   "source": [
    "Naslednja tabela prikazuje podatke o pričakovanih novih primerih za pozamezen tip raka. Urejeni so od najpogostejšega naprej."
   ]
  },
  {
   "cell_type": "code",
   "execution_count": 42,
   "id": "da2f35af",
   "metadata": {},
   "outputs": [
    {
     "name": "stdout",
     "output_type": "stream",
     "text": [
      "                                    Estimated New Cases in 2023\n",
      "Type Of Cancer                                                 \n",
      "Breast (Female)                                        297790.0\n",
      "Prostate                                               288300.0\n",
      "Lung and Bronchus                                      238340.0\n",
      "Colon and Rectum                                       153020.0\n",
      "Melanoma of the Skin                                    97610.0\n",
      "Bladder                                                 82290.0\n",
      "Kidney and Renal Pelvis                                 81800.0\n",
      "Non-Hodgkin Lymphoma                                    80550.0\n",
      "Uterus                                                  66200.0\n",
      "Pancreas                                                64050.0\n",
      "Leukemia                                                59610.0\n",
      "Oral Cavity and Pharynx                                 54540.0\n",
      "Thyroid                                                 43720.0\n",
      "Liver and Intrahepatic Bile Duct                        41210.0\n",
      "Myeloma                                                 35730.0\n",
      "Stomach                                                 26500.0\n",
      "Brain and Other Nervous System                          24810.0\n",
      "Esophagus                                               21560.0\n",
      "Acute Myeloid Leukemia (AML)                            20380.0\n",
      "Ovary                                                   19710.0\n",
      "Chronic Lymphocytic Leukemia (CLL)                      18740.0\n",
      "Tongue                                                  18040.0\n",
      "Cervix Uteri                                            13960.0\n",
      "Soft Tissue including Heart                             13400.0\n",
      "Larynx                                                  12380.0\n",
      "Small Intestine                                         12070.0\n",
      "Anus                                                     9760.0\n",
      "Testis                                                   9190.0\n",
      "Chronic Myeloid Leukemia (CML)                           8930.0\n",
      "Hodgkin Lymphoma                                         8830.0\n",
      "Acute Lymphocytic Leukemia (ALL)                         6540.0\n",
      "Vulva                                                    6470.0\n",
      "Bone and Joint                                           3970.0\n"
     ]
    }
   ],
   "source": [
    "print(pricakovani_novi_primeri)"
   ]
  },
  {
   "cell_type": "markdown",
   "id": "f9bd8f36",
   "metadata": {},
   "source": [
    "Enako naredimo še za smrtne primere."
   ]
  },
  {
   "cell_type": "code",
   "execution_count": 43,
   "id": "e1ed7035",
   "metadata": {},
   "outputs": [],
   "source": [
    "pricakovani_smrtni_primeri = vsi_podatki[['Estimated Deaths in 2023']].sort_values('Estimated Deaths in 2023',\n",
    "                                                                              ascending=False)\n",
    "pricakovani_smrtni_primeri = pricakovani_smrtni_primeri[pricakovani_smrtni_primeri['Estimated Deaths in 2023'] != 0]"
   ]
  },
  {
   "cell_type": "markdown",
   "id": "43614d22",
   "metadata": {},
   "source": [
    "Naslednja tabela prikazuje podatke o pričakovanih smrtnih primerih za pozamezen tip raka. Urejeni so od najpogostejšega naprej."
   ]
  },
  {
   "cell_type": "code",
   "execution_count": 44,
   "id": "fe25ee69",
   "metadata": {},
   "outputs": [
    {
     "name": "stdout",
     "output_type": "stream",
     "text": [
      "                                    Estimated Deaths in 2023\n",
      "Type Of Cancer                                              \n",
      "Lung and Bronchus                                   127070.0\n",
      "Colon and Rectum                                     52550.0\n",
      "Pancreas                                             50550.0\n",
      "Breast (Female)                                      43170.0\n",
      "Prostate                                             34700.0\n",
      "Liver and Intrahepatic Bile Duct                     29380.0\n",
      "Leukemia                                             23710.0\n",
      "Non-Hodgkin Lymphoma                                 20180.0\n",
      "Brain and Other Nervous System                       18990.0\n",
      "Bladder                                              16710.0\n",
      "Esophagus                                            16120.0\n",
      "Kidney and Renal Pelvis                              14890.0\n",
      "Ovary                                                13270.0\n",
      "Uterus                                               13030.0\n",
      "Myeloma                                              12590.0\n",
      "Oral Cavity and Pharynx                              11580.0\n",
      "Acute Myeloid Leukemia (AML)                         11310.0\n",
      "Stomach                                              11130.0\n",
      "Melanoma of the Skin                                  7990.0\n",
      "Soft Tissue including Heart                           5140.0\n",
      "Chronic Lymphocytic Leukemia (CLL)                    4490.0\n",
      "Cervix Uteri                                          4310.0\n",
      "Larynx                                                3820.0\n",
      "Tongue                                                2940.0\n",
      "Bone and Joint                                        2140.0\n",
      "Thyroid                                               2120.0\n",
      "Small Intestine                                       2070.0\n",
      "Anus                                                  1870.0\n",
      "Vulva                                                 1670.0\n",
      "Acute Lymphocytic Leukemia (ALL)                      1390.0\n",
      "Chronic Myeloid Leukemia (CML)                        1310.0\n",
      "Hodgkin Lymphoma                                       900.0\n",
      "Testis                                                 470.0\n"
     ]
    }
   ],
   "source": [
    "print(pricakovani_smrtni_primeri)"
   ]
  },
  {
   "cell_type": "markdown",
   "id": "ebf36b2c",
   "metadata": {},
   "source": [
    "V naslednji tabeli bomo prikazali kdo dobi določen tip raka in povprečno starost pri kateri oseba dobi diagnozo."
   ]
  },
  {
   "cell_type": "code",
   "execution_count": 45,
   "id": "7756fa0b",
   "metadata": {},
   "outputs": [
    {
     "name": "stdout",
     "output_type": "stream",
     "text": [
      "                                                   New Cases Male  \\\n",
      "Type Of Cancer                                                      \n",
      "Anus                                                          1.6   \n",
      "Bladder                                                      31.7   \n",
      "Bone and Joint                                                1.2   \n",
      "Brain and Other Nervous System                                7.4   \n",
      "Breast (Female)                                                 /   \n",
      "Cervix Uteri                                                    /   \n",
      "Childhood Brain and Other Nervous System (Ages ...            3.2   \n",
      "Childhood Leukemia (Ages 0–19)                                5.4   \n",
      "Colon and Rectum                                             42.1   \n",
      "Esophagus                                                     7.2   \n",
      "Kidney and Renal Pelvis                                      23.5   \n",
      "Larynx                                                        4.7   \n",
      "Liver and Intrahepatic Bile Duct                             14.1   \n",
      "Lung and Bronchus                                            56.4   \n",
      "Hodgkin Lymphoma                                              2.8   \n",
      "Non-Hodgkin Lymphoma                                         22.5   \n",
      "Leukemia                                                     17.8   \n",
      "Acute Lymphocytic Leukemia (ALL)                              2.1   \n",
      "Acute Myeloid Leukemia (AML)                                  5.0   \n",
      "Chronic Lymphocytic Leukemia (CLL)                            6.3   \n",
      "Chronic Myeloid Leukemia (CML)                                2.5   \n",
      "Melanoma of the Skin                                         26.9   \n",
      "Myeloma                                                       8.7   \n",
      "Oral Cavity and Pharynx                                      17.2   \n",
      "Tongue                                                        5.5   \n",
      "Ovary                                                           /   \n",
      "Pancreas                                                     15.1   \n",
      "Prostate                                                    113.4   \n",
      "Small Intestine                                               2.9   \n",
      "Soft Tissue including Heart                                   4.1   \n",
      "Stomach                                                       9.0   \n",
      "Testis                                                        6.0   \n",
      "Thyroid                                                       7.4   \n",
      "Uterus                                                          /   \n",
      "Vulva                                                           /   \n",
      "\n",
      "                                                   New Cases Female  \\\n",
      "Type Of Cancer                                                        \n",
      "Anus                                                            2.3   \n",
      "Bladder                                                         7.8   \n",
      "Bone and Joint                                                  0.9   \n",
      "Brain and Other Nervous System                                  5.2   \n",
      "Breast (Female)                                               126.9   \n",
      "Cervix Uteri                                                    7.7   \n",
      "Childhood Brain and Other Nervous System (Ages ...              2.9   \n",
      "Childhood Leukemia (Ages 0–19)                                  4.3   \n",
      "Colon and Rectum                                               32.0   \n",
      "Esophagus                                                       1.7   \n",
      "Kidney and Renal Pelvis                                        11.7   \n",
      "Larynx                                                          1.0   \n",
      "Liver and Intrahepatic Bile Duct                                5.2   \n",
      "Lung and Bronchus                                              45.3   \n",
      "Hodgkin Lymphoma                                                2.3   \n",
      "Non-Hodgkin Lymphoma                                           15.5   \n",
      "Leukemia                                                       10.9   \n",
      "Acute Lymphocytic Leukemia (ALL)                                1.6   \n",
      "Acute Myeloid Leukemia (AML)                                    3.4   \n",
      "Chronic Lymphocytic Leukemia (CLL)                              3.3   \n",
      "Chronic Myeloid Leukemia (CML)                                  1.5   \n",
      "Melanoma of the Skin                                           16.7   \n",
      "Myeloma                                                         5.8   \n",
      "Oral Cavity and Pharynx                                         6.4   \n",
      "Tongue                                                          2.0   \n",
      "Ovary                                                          10.3   \n",
      "Pancreas                                                       11.8   \n",
      "Prostate                                                          /   \n",
      "Small Intestine                                                 2.1   \n",
      "Soft Tissue including Heart                                     2.9   \n",
      "Stomach                                                         5.2   \n",
      "Testis                                                            /   \n",
      "Thyroid                                                        20.2   \n",
      "Uterus                                                         27.6   \n",
      "Vulva                                                           2.5   \n",
      "\n",
      "                                                    Median Age At Diagnosis  \n",
      "Type Of Cancer                                                               \n",
      "Anus                                                                     63  \n",
      "Bladder                                                                  73  \n",
      "Bone and Joint                                                           46  \n",
      "Brain and Other Nervous System                                           60  \n",
      "Breast (Female)                                                          63  \n",
      "Cervix Uteri                                                             50  \n",
      "Childhood Brain and Other Nervous System (Ages ...                        8  \n",
      "Childhood Leukemia (Ages 0–19)                                            6  \n",
      "Colon and Rectum                                                         66  \n",
      "Esophagus                                                                68  \n",
      "Kidney and Renal Pelvis                                                  65  \n",
      "Larynx                                                                   66  \n",
      "Liver and Intrahepatic Bile Duct                                         66  \n",
      "Lung and Bronchus                                                        71  \n",
      "Hodgkin Lymphoma                                                         39  \n",
      "Non-Hodgkin Lymphoma                                                     68  \n",
      "Leukemia                                                                 67  \n",
      "Acute Lymphocytic Leukemia (ALL)                                         17  \n",
      "Acute Myeloid Leukemia (AML)                                             69  \n",
      "Chronic Lymphocytic Leukemia (CLL)                                       70  \n",
      "Chronic Myeloid Leukemia (CML)                                           66  \n",
      "Melanoma of the Skin                                                     66  \n",
      "Myeloma                                                                  69  \n",
      "Oral Cavity and Pharynx                                                  64  \n",
      "Tongue                                                                   64  \n",
      "Ovary                                                                    63  \n",
      "Pancreas                                                                 70  \n",
      "Prostate                                                                 67  \n",
      "Small Intestine                                                          66  \n",
      "Soft Tissue including Heart                                              62  \n",
      "Stomach                                                                  68  \n",
      "Testis                                                                   32  \n",
      "Thyroid                                                                  51  \n",
      "Uterus                                                                   63  \n",
      "Vulva                                                                    69  \n"
     ]
    }
   ],
   "source": [
    "kdo_dobi_tega_raka = vsi_podatki[['New Cases Male', 'New Cases Female', 'Median Age At Diagnosis']].replace(0, '/')\n",
    "print(kdo_dobi_tega_raka)"
   ]
  },
  {
   "cell_type": "markdown",
   "id": "a314bc14",
   "metadata": {},
   "source": [
    "Eanko bomo naredili še za kdo umre za tem rakom in povprečna starost pri kateri oseba umre."
   ]
  },
  {
   "cell_type": "code",
   "execution_count": 46,
   "id": "abbcdd93",
   "metadata": {},
   "outputs": [
    {
     "name": "stdout",
     "output_type": "stream",
     "text": [
      "                                                   Death Cases Male  \\\n",
      "Type Of Cancer                                                        \n",
      "Anus                                                            0.3   \n",
      "Bladder                                                         7.1   \n",
      "Bone and Joint                                                  0.6   \n",
      "Brain and Other Nervous System                                  5.4   \n",
      "Breast (Female)                                                   /   \n",
      "Cervix Uteri                                                      /   \n",
      "Childhood Brain and Other Nervous System (Ages ...              0.7   \n",
      "Childhood Leukemia (Ages 0–19)                                  0.6   \n",
      "Colon and Rectum                                               15.7   \n",
      "Esophagus                                                       6.7   \n",
      "Kidney and Renal Pelvis                                         5.1   \n",
      "Larynx                                                          1.6   \n",
      "Liver and Intrahepatic Bile Duct                                9.6   \n",
      "Lung and Bronchus                                              42.2   \n",
      "Hodgkin Lymphoma                                                0.3   \n",
      "Non-Hodgkin Lymphoma                                            6.7   \n",
      "Leukemia                                                        8.0   \n",
      "Acute Lymphocytic Leukemia (ALL)                                0.5   \n",
      "Acute Myeloid Leukemia (AML)                                    3.5   \n",
      "Chronic Lymphocytic Leukemia (CLL)                              1.6   \n",
      "Chronic Myeloid Leukemia (CML)                                  0.4   \n",
      "Melanoma of the Skin                                            3.1   \n",
      "Myeloma                                                         3.9   \n",
      "Oral Cavity and Pharynx                                         3.9   \n",
      "Tongue                                                          1.0   \n",
      "Ovary                                                             /   \n",
      "Pancreas                                                       12.7   \n",
      "Prostate                                                       18.8   \n",
      "Small Intestine                                                 0.5   \n",
      "Soft Tissue including Heart                                     1.5   \n",
      "Stomach                                                         3.8   \n",
      "Testis                                                          0.3   \n",
      "Thyroid                                                         0.5   \n",
      "Uterus                                                            /   \n",
      "Vulva                                                             /   \n",
      "\n",
      "                                                   Death Cases Female  \\\n",
      "Type Of Cancer                                                          \n",
      "Anus                                                              0.3   \n",
      "Bladder                                                           2.0   \n",
      "Bone and Joint                                                    0.4   \n",
      "Brain and Other Nervous System                                    3.6   \n",
      "Breast (Female)                                                  19.6   \n",
      "Cervix Uteri                                                      2.2   \n",
      "Childhood Brain and Other Nervous System (Ages ...                0.6   \n",
      "Childhood Leukemia (Ages 0–19)                                    0.5   \n",
      "Colon and Rectum                                                 11.0   \n",
      "Esophagus                                                         1.4   \n",
      "Kidney and Renal Pelvis                                           2.2   \n",
      "Larynx                                                            0.3   \n",
      "Liver and Intrahepatic Bile Duct                                  4.1   \n",
      "Lung and Bronchus                                                29.3   \n",
      "Hodgkin Lymphoma                                                  0.2   \n",
      "Non-Hodgkin Lymphoma                                              3.9   \n",
      "Leukemia                                                          4.5   \n",
      "Acute Lymphocytic Leukemia (ALL)                                  0.4   \n",
      "Acute Myeloid Leukemia (AML)                                      2.1   \n",
      "Chronic Lymphocytic Leukemia (CLL)                                0.7   \n",
      "Chronic Myeloid Leukemia (CML)                                    0.2   \n",
      "Melanoma of the Skin                                              1.3   \n",
      "Myeloma                                                           2.5   \n",
      "Oral Cavity and Pharynx                                           1.4   \n",
      "Tongue                                                            0.4   \n",
      "Ovary                                                             6.3   \n",
      "Pancreas                                                          9.6   \n",
      "Prostate                                                            /   \n",
      "Small Intestine                                                   0.4   \n",
      "Soft Tissue including Heart                                       1.1   \n",
      "Stomach                                                           2.1   \n",
      "Testis                                                              /   \n",
      "Thyroid                                                           0.5   \n",
      "Uterus                                                            5.1   \n",
      "Vulva                                                             0.6   \n",
      "\n",
      "                                                    Median Age At Death  \n",
      "Type Of Cancer                                                           \n",
      "Anus                                                                 67  \n",
      "Bladder                                                              79  \n",
      "Bone and Joint                                                       66  \n",
      "Brain and Other Nervous System                                       66  \n",
      "Breast (Female)                                                      70  \n",
      "Cervix Uteri                                                         59  \n",
      "Childhood Brain and Other Nervous System (Ages ...                    9  \n",
      "Childhood Leukemia (Ages 0–19)                                       11  \n",
      "Colon and Rectum                                                     72  \n",
      "Esophagus                                                            70  \n",
      "Kidney and Renal Pelvis                                              72  \n",
      "Larynx                                                               69  \n",
      "Liver and Intrahepatic Bile Duct                                     69  \n",
      "Lung and Bronchus                                                    72  \n",
      "Hodgkin Lymphoma                                                     70  \n",
      "Non-Hodgkin Lymphoma                                                 76  \n",
      "Leukemia                                                             76  \n",
      "Acute Lymphocytic Leukemia (ALL)                                     59  \n",
      "Acute Myeloid Leukemia (AML)                                         73  \n",
      "Chronic Lymphocytic Leukemia (CLL)                                   82  \n",
      "Chronic Myeloid Leukemia (CML)                                       77  \n",
      "Melanoma of the Skin                                                 72  \n",
      "Myeloma                                                              75  \n",
      "Oral Cavity and Pharynx                                              68  \n",
      "Tongue                                                               68  \n",
      "Ovary                                                                70  \n",
      "Pancreas                                                             72  \n",
      "Prostate                                                             79  \n",
      "Small Intestine                                                      72  \n",
      "Soft Tissue including Heart                                          67  \n",
      "Stomach                                                              71  \n",
      "Testis                                                               40  \n",
      "Thyroid                                                              74  \n",
      "Uterus                                                               70  \n",
      "Vulva                                                                77  \n"
     ]
    }
   ],
   "source": [
    "kdo_umre_od_tega_raka = vsi_podatki[['Death Cases Male', 'Death Cases Female', 'Median Age At Death']].replace(0, '/')\n",
    "print(kdo_umre_od_tega_raka)"
   ]
  },
  {
   "cell_type": "markdown",
   "id": "e960199e",
   "metadata": {},
   "source": [
    "V naslednji tabeli so prikazani podatki za 5 letno relativno preživetje v letih 2013-2019."
   ]
  },
  {
   "cell_type": "code",
   "execution_count": 47,
   "id": "307ec96a",
   "metadata": {},
   "outputs": [
    {
     "name": "stdout",
     "output_type": "stream",
     "text": [
      "                                                   5-Year Relative Survival \n",
      "Type Of Cancer                                                              \n",
      "Anus                                                                   70.4%\n",
      "Bladder                                                                77.9%\n",
      "Bone and Joint                                                         68.9%\n",
      "Brain and Other Nervous System                                         33.8%\n",
      "Breast (Female)                                                        90.8%\n",
      "Cervix Uteri                                                           67.2%\n",
      "Childhood Brain and Other Nervous System (Ages ...                         /\n",
      "Childhood Leukemia (Ages 0–19)                                             /\n",
      "Colon and Rectum                                                       65.0%\n",
      "Esophagus                                                              21.7%\n",
      "Kidney and Renal Pelvis                                                77.6%\n",
      "Larynx                                                                 61.6%\n",
      "Liver and Intrahepatic Bile Duct                                       21.6%\n",
      "Lung and Bronchus                                                      25.4%\n",
      "Hodgkin Lymphoma                                                       88.9%\n",
      "Non-Hodgkin Lymphoma                                                   74.3%\n",
      "Leukemia                                                               66.7%\n",
      "Acute Lymphocytic Leukemia (ALL)                                       71.3%\n",
      "Acute Myeloid Leukemia (AML)                                           31.7%\n",
      "Chronic Lymphocytic Leukemia (CLL)                                     88.0%\n",
      "Chronic Myeloid Leukemia (CML)                                         70.6%\n",
      "Melanoma of the Skin                                                   93.5%\n",
      "Myeloma                                                                59.8%\n",
      "Oral Cavity and Pharynx                                                68.5%\n",
      "Tongue                                                                 69.7%\n",
      "Ovary                                                                  50.8%\n",
      "Pancreas                                                               12.5%\n",
      "Prostate                                                               97.1%\n",
      "Small Intestine                                                        69.5%\n",
      "Soft Tissue including Heart                                            65.8%\n",
      "Stomach                                                                35.7%\n",
      "Testis                                                                 95.2%\n",
      "Thyroid                                                                98.5%\n",
      "Uterus                                                                 81.0%\n",
      "Vulva                                                                  69.6%\n"
     ]
    }
   ],
   "source": [
    "moznost_prezivetja = vsi_podatki[['5-Year Relative Survival ']].replace(0, '/')\n",
    "print(moznost_prezivetja)"
   ]
  },
  {
   "cell_type": "markdown",
   "id": "117ac5f5",
   "metadata": {},
   "source": [
    "Defeniramo funkcijo za risanje grafa iz prvih dveh tabel."
   ]
  },
  {
   "cell_type": "code",
   "execution_count": 48,
   "id": "4d32e976",
   "metadata": {},
   "outputs": [],
   "source": [
    "def generiraj_graf(naslov, vrednosti):\n",
    "    ax1 = vrednosti.plot(kind='barh', legend=False, figsize=(25, 8), width=0.8, color='#4169E1')\n",
    "    ax1.set_title(naslov)\n",
    "    ax1.set_ylabel(' ')\n",
    "    plt.savefig(mapa_grafi + naslov + '.jpg', format='jpeg')\n",
    "    plt.close()"
   ]
  },
  {
   "cell_type": "markdown",
   "id": "0b6f7d89",
   "metadata": {},
   "source": [
    "Prvi graf prikazuje pričakovane nove primere v letu 2023."
   ]
  },
  {
   "cell_type": "code",
   "execution_count": 50,
   "id": "6b789215",
   "metadata": {},
   "outputs": [],
   "source": [
    "generiraj_graf('Estimated New Cases in 2023', pricakovani_novi_primeri)"
   ]
  },
  {
   "cell_type": "markdown",
   "id": "65167af9",
   "metadata": {},
   "source": [
    "Drugi graf prikazuje pričakovane smrtne primere v letu 2023."
   ]
  },
  {
   "cell_type": "code",
   "execution_count": 51,
   "id": "aeb4244f",
   "metadata": {},
   "outputs": [],
   "source": [
    "generiraj_graf('Estimated Deaths in 2023', pricakovani_smrtni_primeri)"
   ]
  },
  {
   "cell_type": "markdown",
   "id": "954cb566",
   "metadata": {},
   "source": [
    "Z naslednjo funkcijo sem generirala grafe za število moških in število žensk, ki v povprečju dobijo specifičen tip raka."
   ]
  },
  {
   "cell_type": "code",
   "execution_count": 53,
   "id": "2fd7e905",
   "metadata": {},
   "outputs": [],
   "source": [
    "def generiraj_graf_primerjave(v1, v2, naslov):\n",
    "    primerjava = vsi_podatki[[v1, v2]]\n",
    "    primerjava.loc[:, [v1, v2]] = primerjava[[v1, v2]].applymap(pd.to_numeric, errors='coerce')\n",
    "\n",
    "    for index, row in primerjava.iterrows():\n",
    "        values = row.values\n",
    "\n",
    "        plt.bar(range(len(values)), values, color=['#A4D3EE', '#FFAEB9'])\n",
    "\n",
    "        plt.ylim(bottom=0)\n",
    "        plt.title(f'Type of cancer: {index}')\n",
    "\n",
    "        plt.savefig(f'{mapa_grafi}{naslov}{index}.jpg', format='jpeg')\n",
    "        plt.clf()"
   ]
  },
  {
   "cell_type": "markdown",
   "id": "dfe0c4b9",
   "metadata": {},
   "source": [
    "Uporabimo funkcijo."
   ]
  },
  {
   "cell_type": "code",
   "execution_count": 54,
   "id": "2802d395",
   "metadata": {},
   "outputs": [
    {
     "data": {
      "text/plain": [
       "<Figure size 640x480 with 0 Axes>"
      ]
     },
     "metadata": {},
     "output_type": "display_data"
    }
   ],
   "source": [
    "generiraj_graf_primerjave('New Cases Male', 'New Cases Female', 'bar_plot_new_cases_')\n",
    "generiraj_graf_primerjave('Death Cases Male', 'Death Cases Female', 'bar_plot_death_cases_')"
   ]
  },
  {
   "cell_type": "markdown",
   "id": "da3e0653",
   "metadata": {},
   "source": [
    "Filtriramo podatke o procentih vseh novih primerih in vseh smrtnih primerih."
   ]
  },
  {
   "cell_type": "code",
   "execution_count": 55,
   "id": "ed384f3d",
   "metadata": {},
   "outputs": [],
   "source": [
    "procenti = vsi_podatki[['(%) of All New Cancer Cases', '(%) of All Cancer Deaths']]\n",
    "procenti = procenti[procenti['(%) of All New Cancer Cases'] != 0]\n",
    "\n",
    "procenti.loc[:, '(%) of All New Cancer Cases'] = procenti['(%) of All New Cancer Cases'].str.replace('%', '')\n",
    "procenti.loc[:, '(%) of All Cancer Deaths'] = procenti['(%) of All Cancer Deaths'].str.replace('%', '')\n",
    "procenti.loc[:, ['(%) of All New Cancer Cases', '(%) of All Cancer Deaths']] = procenti[\n",
    "    ['(%) of All New Cancer Cases', '(%) of All Cancer Deaths']].applymap(pd.to_numeric, errors='coerce')\n",
    "\n",
    "procenti_novi = procenti[['(%) of All New Cancer Cases']]\n",
    "procenti_smrtni = procenti[['(%) of All Cancer Deaths']]"
   ]
  },
  {
   "cell_type": "markdown",
   "id": "bcfc16cb",
   "metadata": {},
   "source": [
    "Uporabimo zgoraj definirano funkcijo da narišemo garfa."
   ]
  },
  {
   "cell_type": "code",
   "execution_count": 58,
   "id": "247b3bc3",
   "metadata": {},
   "outputs": [],
   "source": [
    "generiraj_graf('(%) of All New Cancer Cases', procenti_novi)\n",
    "generiraj_graf('(%) of All Cancer Deaths', procenti_smrtni)"
   ]
  },
  {
   "cell_type": "code",
   "execution_count": null,
   "id": "5bf82ceb",
   "metadata": {},
   "outputs": [],
   "source": []
  }
 ],
 "metadata": {
  "kernelspec": {
   "display_name": "Python 3 (ipykernel)",
   "language": "python",
   "name": "python3"
  },
  "language_info": {
   "codemirror_mode": {
    "name": "ipython",
    "version": 3
   },
   "file_extension": ".py",
   "mimetype": "text/x-python",
   "name": "python",
   "nbconvert_exporter": "python",
   "pygments_lexer": "ipython3",
   "version": "3.10.2"
  }
 },
 "nbformat": 4,
 "nbformat_minor": 5
}
