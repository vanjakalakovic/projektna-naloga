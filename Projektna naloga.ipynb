{
 "cells": [
  {
   "cell_type": "markdown",
   "id": "1e149019",
   "metadata": {},
   "source": [
    "# Projektna naloga"
   ]
  },
  {
   "cell_type": "markdown",
   "id": "8b0e1c64",
   "metadata": {},
   "source": [
    "Za projektno nalogo sem se odločila, da bom analizirala podatke o rakavih obolenjih. Glavni cilj te projektne naloge je, da temeljito analizira statistične podatke posameznega tipa raka ter te podatke ustrezno in razumljivo predstavi."
   ]
  },
  {
   "cell_type": "code",
   "execution_count": null,
   "id": "76af05f6",
   "metadata": {},
   "outputs": [],
   "source": []
  }
 ],
 "metadata": {
  "kernelspec": {
   "display_name": "Python 3 (ipykernel)",
   "language": "python",
   "name": "python3"
  },
  "language_info": {
   "codemirror_mode": {
    "name": "ipython",
    "version": 3
   },
   "file_extension": ".py",
   "mimetype": "text/x-python",
   "name": "python",
   "nbconvert_exporter": "python",
   "pygments_lexer": "ipython3",
   "version": "3.10.2"
  }
 },
 "nbformat": 4,
 "nbformat_minor": 5
}
