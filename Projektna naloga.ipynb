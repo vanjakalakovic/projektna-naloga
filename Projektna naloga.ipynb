{
 "cells": [
  {
   "cell_type": "markdown",
   "id": "1e149019",
   "metadata": {},
   "source": [
    "# Projektna naloga"
   ]
  },
  {
   "cell_type": "markdown",
   "id": "8b0e1c64",
   "metadata": {},
   "source": [
    "Za projektno nalogo sem se odločila, da bom analizirala podatke o rakavih obolenjih. Glavni cilj te projektne naloge je, da temeljito analizira statistične podatke posameznega tipa raka ter te podatke ustrezno in razumljivo predstavi."
   ]
  },
  {
   "cell_type": "markdown",
   "id": "e45587ab",
   "metadata": {},
   "source": [
    "Najprej uvozimo knjižnjice, ki jih bomo potrebovali. "
   ]
  },
  {
   "cell_type": "code",
   "execution_count": 15,
   "id": "c4547da6",
   "metadata": {},
   "outputs": [],
   "source": [
    "import re\n",
    "from urllib.request import urlopen\n",
    "from bs4 import BeautifulSoup\n",
    "import csv\n",
    "import pandas as pd\n",
    "import matplotlib.pyplot as plt\n",
    "import os"
   ]
  },
  {
   "cell_type": "markdown",
   "id": "87f0b7f7",
   "metadata": {},
   "source": [
    "Za tem definiramo spletno stran iz katere jemljemo podatke in jo z BeautifulSoup uvozimo v spremenljivko `bs_spletna_stran`."
   ]
  },
  {
   "cell_type": "code",
   "execution_count": 16,
   "id": "0f55fa5d",
   "metadata": {},
   "outputs": [],
   "source": [
    "link = 'https://seer.cancer.gov'\n",
    "link_podrocja = link + '/statfacts/'\n",
    "\n",
    "spletna_stran = urlopen(link_podrocja).read().decode('UTF-8')\n",
    "bs_spletna_stran = BeautifulSoup(spletna_stran, 'html.parser')"
   ]
  },
  {
   "cell_type": "markdown",
   "id": "da1cc051",
   "metadata": {},
   "source": [
    "Na spletni strani pogledamo kje se nahajajo podatki, ki jih želimo. Ugotovimo da so zajeti v razredu `alphaList`. Z metodo `.find()` poiščemo vse podatke v `alphaList` in jih shranimo v spremenljivko seznam_podrocij."
   ]
  },
  {
   "cell_type": "code",
   "execution_count": 18,
   "id": "1424cb2b",
   "metadata": {},
   "outputs": [],
   "source": [
    "seznam_podrocij = bs_spletna_stran.find('div', attrs={'class': 'alphaList'})"
   ]
  },
  {
   "cell_type": "markdown",
   "id": "67c8c30e",
   "metadata": {},
   "source": [
    "Za boljši pregled ustvarimo prazen slovar `slovar_podrocij` v katerega bomo shranili kot ključ tip raka in pod vrednosti povezave za vsak tip posebaj."
   ]
  },
  {
   "cell_type": "code",
   "execution_count": 19,
   "id": "7b4c016a",
   "metadata": {},
   "outputs": [],
   "source": [
    "slovar_podrocij = {}"
   ]
  },
  {
   "cell_type": "markdown",
   "id": "cf998d08",
   "metadata": {},
   "source": [
    "Na spletni strani so nekateri podatki neuporabni in jih zato lahko izpustimo. "
   ]
  },
  {
   "cell_type": "code",
   "execution_count": 20,
   "id": "0a56bdf8",
   "metadata": {},
   "outputs": [],
   "source": [
    "nepotrebne_teme = [\n",
    "    'Female Breast Subtypes', 'Chronic Lymphocytic Leukemia/Small Lymphocytic Lymphoma (CLL/SLL)',\n",
    "    'Diffuse Large B-Cell Lymphoma (DLBCL)', 'Follicular Lymphoma', 'Lip'\n",
    "]\n",
    "\n",
    "for podrocje in seznam_podrocij.find_all('a'):\n",
    "    if podrocje.get_text() in nepotrebne_teme:\n",
    "        continue\n",
    "    slovar_podrocij[podrocje.get_text()] = podrocje.get('href')"
   ]
  },
  {
   "cell_type": "markdown",
   "id": "9684afa6",
   "metadata": {},
   "source": [
    "Za hitrejše in bolj pregledno kodo, bomo napisali funkcijo, ki bom iz spletne strani pobrala potrebne podatke. Ker so podatki shranjeni pod različne značke, bomo znotraj funkcije napisali pomožne funkcije. V vsaki izmed teh funkcij najprej po znački poiščemo podatke in jih dobimo z `.get_text()`. Vse dobljene podatke shranimo v nov prazen slovar `podatki`, kjer ključe določimo z tipom podatka, za vrednosti pa uzamemo poiskani podatek."
   ]
  },
  {
   "cell_type": "code",
   "execution_count": 22,
   "id": "cebad4ec",
   "metadata": {},
   "outputs": [],
   "source": [
    "def pridobi_podatke(povezava):\n",
    "    podatki = {}\n",
    "\n",
    "    def novi_in_smrtni_primeri(vrsta, podatek):\n",
    "        for p in podatek.find_all('p'):\n",
    "            naslov = p.find('span').get_text()\n",
    "            vrednost = p.find('span').find_next().get_text().replace(',', '')\n",
    "            estimated = re.search(r'^Estimated', naslov)\n",
    "\n",
    "            if estimated:\n",
    "                podatki['prb_' + vrsta] = vrednost\n",
    "            else:\n",
    "                podatki['delez_' + vrsta] = vrednost\n",
    "\n",
    "    def ostali_podatki(kljuc, podatek):\n",
    "        tag = 'td'\n",
    "        if 'povp_starost' in kljuc:\n",
    "            tag = 'strong'\n",
    "        podatek_spol = podatek.find(tag).get_text().replace(',', '')\n",
    "        podatki[kljuc] = podatek_spol\n",
    "\n",
    "    def spletna_povezava(oznaka, tip, sez):\n",
    "        podatki_za_predelavo = spletna_podrocje.find(oznaka, attrs={tip: sez})\n",
    "        return podatki_za_predelavo\n",
    "\n",
    "    link_tema = link + povezava\n",
    "    spletna_podrocje = BeautifulSoup(urlopen(link_tema).read().decode('UTF-8'), 'html.parser')\n",
    "\n",
    "    # novi primeri\n",
    "    if spletna_povezava('div', 'class', ['new', 'glanceBox']):\n",
    "        novi_in_smrtni_primeri('novi', spletna_povezava('div', 'class', ['new', 'glanceBox']))\n",
    "\n",
    "    # smrtni primeri\n",
    "    if spletna_povezava('div', 'class', ['death']):\n",
    "        novi_in_smrtni_primeri('smrtni', spletna_povezava('div', 'class', ['death']))\n",
    "\n",
    "    # podatki o relativnem prezivetje\n",
    "    if spletna_povezava('div', 'class', ['col-lg-4', 'offset-lg-1']):\n",
    "        for div in spletna_povezava('div', 'class', ['col-lg-4', 'offset-lg-1']).find_all('div'):\n",
    "            podatki_prezivetje = div.find('strong').get_text()\n",
    "            podatki['5_letno_realtivno_prezivetje_stevilo'] = podatki_prezivetje\n",
    "\n",
    "    # podatki o novih primerih moski\n",
    "    if spletna_povezava('table', 'id', ['scrapeTable_04']):\n",
    "        ostali_podatki('vse_rase_moski', spletna_povezava('table', 'id', ['scrapeTable_04']))\n",
    "\n",
    "    # podatki o novih primerih zenske\n",
    "    if spletna_povezava('table', 'id', ['scrapeTable_05']):\n",
    "        ostali_podatki('vse_rase_zenske', spletna_povezava('table', 'id', ['scrapeTable_05']))\n",
    "\n",
    "    # podatki o povprečni starosti za nove primere\n",
    "    if spletna_povezava('div', 'class', ['statSurv']):\n",
    "        ostali_podatki('povp_starost', spletna_povezava('div', 'class', ['statSurv']))\n",
    "\n",
    "    # podatki o smrtnih primerih moski\n",
    "    if spletna_povezava('table', 'id', ['scrapeTable_07']):\n",
    "        ostali_podatki('smrtni_vse_rase_moski', spletna_povezava('table', 'id', ['scrapeTable_07']))\n",
    "\n",
    "    # podatki o smrtnih primerih zenske\n",
    "    if spletna_povezava('table', 'id', ['scrapeTable_08']):\n",
    "        ostali_podatki('smrtni_vse_rase_zenske', spletna_povezava('table', 'id', ['scrapeTable_08']))\n",
    "\n",
    "    # podatki o povprecni starosti smrti\n",
    "    if spletna_povezava('div', 'class', ['col-lg-4', 'offset-lg-1']):\n",
    "        ostali_podatki('povp_starost_smrti', spletna_povezava('div', 'class', ['statDie']))\n",
    "\n",
    "    return podatki"
   ]
  },
  {
   "cell_type": "markdown",
   "id": "ba7bbaaf",
   "metadata": {},
   "source": [
    "Za boljšo preglednost, podatke v slovarju `podatki` spravimo v prvotni slovar, kjer so ključi tipi raka. Tako imamo v slovarju za vsak tip raka posebaj zbrane vse podatke."
   ]
  },
  {
   "cell_type": "code",
   "execution_count": 23,
   "id": "16a1fc12",
   "metadata": {},
   "outputs": [],
   "source": [
    "for k, v in slovar_podrocij.items():\n",
    "    slovar_podrocij[k] = pridobi_podatke(v)"
   ]
  },
  {
   "cell_type": "markdown",
   "id": "8b6c25c7",
   "metadata": {},
   "source": [
    "Zdaj ustvarimo mapo, kamor bomo shranjevali izrisane grafe. To nam omogoča boljšo preglednost."
   ]
  },
  {
   "cell_type": "code",
   "execution_count": 26,
   "id": "3df772c7",
   "metadata": {},
   "outputs": [],
   "source": [
    "mapa_grafi = 'grafi'\n",
    "mapa_obstaja = os.path.exists(mapa_grafi)\n",
    "if not mapa_obstaja:\n",
    "    os.makedirs(mapa_grafi)\n",
    "mapa_grafi += '/'"
   ]
  },
  {
   "cell_type": "markdown",
   "id": "2906656f",
   "metadata": {},
   "source": [
    "Ker se iz slovarja zelo težko znajdemo bomo raje naredili csv datoteko, kjer bodo podatki bolj razvidni. Zopet bomo definiral funkcijo in sicer `ustvari_csv`, kjer bomo najprej odpli datoteko, nato ustvarimo glavo csv datoteko, to so imena stolpcev naše tabele. Za tem bomo z zanko `for` šli čez vse ključe in vrednosti v slovarju. Tu si pomagamo z metodo `.get()` z katero dobimo željeno vrednost iz slovarja. "
   ]
  },
  {
   "cell_type": "code",
   "execution_count": 28,
   "id": "64a1f24c",
   "metadata": {},
   "outputs": [],
   "source": [
    "csv_ime_datoteke = 'output.csv'\n",
    "\n",
    "def ustvari_csv(ime_datoteke):\n",
    "    with open(ime_datoteke, mode='w', newline='') as file:\n",
    "        writer = csv.writer(file)\n",
    "\n",
    "        header = ['Type Of Cancer', 'Estimated New Cases in 2023', '(%) of All New Cancer Cases',\n",
    "                  'Estimated Deaths in 2023',\n",
    "                  '(%) of All Cancer Deaths', '5-Year Relative Survival ',\n",
    "                  'New Cases Male', 'New Cases Female', 'Median Age At Diagnosis',\n",
    "                  'Death Cases Male', 'Death Cases Female', 'Median Age At Death']\n",
    "        writer.writerow(header)\n",
    "\n",
    "        for name, values in slovar_podrocij.items():\n",
    "            prb_novi = values.get('prb_novi')\n",
    "            delez_novi = values.get('delez_novi')\n",
    "            prb_smrti = values.get('prb_smrtni')\n",
    "            delez_smrti = values.get('delez_smrtni')\n",
    "            relativno_prezivetje_stevilo = values.get('5_letno_realtivno_prezivetje_stevilo')\n",
    "            vse_rase_m = values.get('vse_rase_moski')\n",
    "            vse_rase_z = values.get('vse_rase_zenske')\n",
    "            povp_starost = values.get('povp_starost')\n",
    "            smrtni_vse_rase_m = values.get('smrtni_vse_rase_moski')\n",
    "            smrtni_vse_rase_z = values.get('smrtni_vse_rase_zenske')\n",
    "            povp_starost_smrti = values.get('povp_starost_smrti')\n",
    "\n",
    "            row = [name, prb_novi, delez_novi, prb_smrti, delez_smrti, relativno_prezivetje_stevilo,\n",
    "                   vse_rase_m, vse_rase_z, povp_starost, smrtni_vse_rase_m,\n",
    "                   smrtni_vse_rase_z, povp_starost_smrti]\n",
    "            writer.writerow(row)"
   ]
  },
  {
   "cell_type": "markdown",
   "id": "7bc4129b",
   "metadata": {},
   "source": [
    "Zadnja stvar, ki jo moramo narediti je ustvariti csv datoteko. To naredimo tako, da poženemo našo funkcijo `ustvari_csv`."
   ]
  },
  {
   "cell_type": "code",
   "execution_count": 31,
   "id": "1e2498be",
   "metadata": {},
   "outputs": [],
   "source": [
    "ustvari_csv(csv_ime_datoteke)"
   ]
  },
  {
   "cell_type": "markdown",
   "id": "cc387f7d",
   "metadata": {},
   "source": [
    "Za anlizo podatkov uporabimo knjižnjico `pandas`. Z `pd.read_csv()` preberemo ustvarjeno csv datoteko. Opazimo, da nekateri podatki mankajo oziroma imajo podatek v obliki teksta. Za lažjo obdelavo podatkov te nadomestili z vrednostjo 0 in zamenjamo tip podatka v numeričnega."
   ]
  },
  {
   "cell_type": "code",
   "execution_count": 65,
   "id": "9d2d7020",
   "metadata": {},
   "outputs": [],
   "source": [
    "def predelaj_csv_podatke(ime_datoteke, zapolni_privzete=False):\n",
    "    predelani_podatki = pd.read_csv(ime_datoteke, encoding='cp1252', index_col='Type Of Cancer')\n",
    "    if zapolni_privzete:\n",
    "        predelani_podatki = predelani_podatki.fillna(0)\n",
    "        predelani_podatki.replace('Sex-specific cancer type', 0, inplace=True)\n",
    "\n",
    "    # številčne podatke spremenimo v numerične za lažjo obdelavo\n",
    "    stolpci = ['Estimated New Cases in 2023', 'Estimated Deaths in 2023']\n",
    "    predelani_podatki[stolpci] = predelani_podatki[stolpci].applymap(pd.to_numeric, errors='coerce').astype(int)\n",
    "\n",
    "    return predelani_podatki"
   ]
  },
  {
   "cell_type": "markdown",
   "id": "4e8349d5",
   "metadata": {},
   "source": [
    "Uporabimo funkcijo in shranimo pod spremenljivko."
   ]
  },
  {
   "cell_type": "code",
   "execution_count": 66,
   "id": "e58b3854",
   "metadata": {},
   "outputs": [],
   "source": [
    "vsi_podatki = predelaj_csv_podatke(csv_ime_datoteke, zapolni_privzete=True)"
   ]
  },
  {
   "cell_type": "markdown",
   "id": "9843863c",
   "metadata": {},
   "source": [
    "Zdaj ko so podatki v ustrezni obliki jih lahko filtriramo. Najprej bomo prikazali pričakovano število novih primerov. Te uredimo po velikosti z `.sort_values()`."
   ]
  },
  {
   "cell_type": "code",
   "execution_count": 67,
   "id": "afbcdb13",
   "metadata": {},
   "outputs": [],
   "source": [
    "pricakovani_novi_primeri = vsi_podatki[['Estimated New Cases in 2023']].sort_values('Estimated New Cases in 2023',\n",
    "                                                                               ascending=False)"
   ]
  },
  {
   "cell_type": "markdown",
   "id": "864ae226",
   "metadata": {},
   "source": [
    "Odstranimo vse vrstice, kjer je 0."
   ]
  },
  {
   "cell_type": "code",
   "execution_count": 68,
   "id": "93131a8d",
   "metadata": {},
   "outputs": [],
   "source": [
    "pricakovani_novi_primeri = pricakovani_novi_primeri[pricakovani_novi_primeri['Estimated New Cases in 2023'] != 0]"
   ]
  },
  {
   "cell_type": "markdown",
   "id": "ba8e34e5",
   "metadata": {},
   "source": [
    "V tabeli so tako prikazani podatki za pričakovano število novih primerov za vsak tip raka posebaj. Ker smo vrednosti uredili po velikosti, lahko iz tabele preberemo kateri tip raka je najpogostejši torej rak dojk."
   ]
  },
  {
   "cell_type": "code",
   "execution_count": 69,
   "id": "1deaf526",
   "metadata": {},
   "outputs": [
    {
     "name": "stdout",
     "output_type": "stream",
     "text": [
      "                                    Estimated New Cases in 2023\n",
      "Type Of Cancer                                                 \n",
      "Breast (Female)                                          297790\n",
      "Prostate                                                 288300\n",
      "Lung and Bronchus                                        238340\n",
      "Colon and Rectum                                         153020\n",
      "Melanoma of the Skin                                      97610\n",
      "Bladder                                                   82290\n",
      "Kidney and Renal Pelvis                                   81800\n",
      "Non-Hodgkin Lymphoma                                      80550\n",
      "Uterus                                                    66200\n",
      "Pancreas                                                  64050\n",
      "Leukemia                                                  59610\n",
      "Oral Cavity and Pharynx                                   54540\n",
      "Thyroid                                                   43720\n",
      "Liver and Intrahepatic Bile Duct                          41210\n",
      "Myeloma                                                   35730\n",
      "Stomach                                                   26500\n",
      "Brain and Other Nervous System                            24810\n",
      "Esophagus                                                 21560\n",
      "Acute Myeloid Leukemia (AML)                              20380\n",
      "Ovary                                                     19710\n",
      "Chronic Lymphocytic Leukemia (CLL)                        18740\n",
      "Tongue                                                    18040\n",
      "Cervix Uteri                                              13960\n",
      "Soft Tissue including Heart                               13400\n",
      "Larynx                                                    12380\n",
      "Small Intestine                                           12070\n",
      "Anus                                                       9760\n",
      "Testis                                                     9190\n",
      "Chronic Myeloid Leukemia (CML)                             8930\n",
      "Hodgkin Lymphoma                                           8830\n",
      "Acute Lymphocytic Leukemia (ALL)                           6540\n",
      "Vulva                                                      6470\n",
      "Bone and Joint                                             3970\n"
     ]
    }
   ],
   "source": [
    "print(pricakovani_novi_primeri)"
   ]
  },
  {
   "cell_type": "markdown",
   "id": "bf8b8960",
   "metadata": {},
   "source": [
    "Enako naredimo še za smrtne primere."
   ]
  },
  {
   "cell_type": "code",
   "execution_count": 70,
   "id": "9a8edc33",
   "metadata": {},
   "outputs": [],
   "source": [
    "pricakovani_smrtni_primeri = vsi_podatki[['Estimated Deaths in 2023']].sort_values('Estimated Deaths in 2023',\n",
    "                                                                              ascending=False)\n",
    "pricakovani_smrtni_primeri = pricakovani_smrtni_primeri[pricakovani_smrtni_primeri['Estimated Deaths in 2023'] != 0]"
   ]
  },
  {
   "cell_type": "markdown",
   "id": "2431beee",
   "metadata": {},
   "source": [
    "Naslednja tabela je zelo podobna prejšnji, le da so tu prikazani podatki za smrtne primere. "
   ]
  },
  {
   "cell_type": "code",
   "execution_count": 71,
   "id": "8f4f6e3a",
   "metadata": {},
   "outputs": [
    {
     "name": "stdout",
     "output_type": "stream",
     "text": [
      "                                    Estimated Deaths in 2023\n",
      "Type Of Cancer                                              \n",
      "Lung and Bronchus                                     127070\n",
      "Colon and Rectum                                       52550\n",
      "Pancreas                                               50550\n",
      "Breast (Female)                                        43170\n",
      "Prostate                                               34700\n",
      "Liver and Intrahepatic Bile Duct                       29380\n",
      "Leukemia                                               23710\n",
      "Non-Hodgkin Lymphoma                                   20180\n",
      "Brain and Other Nervous System                         18990\n",
      "Bladder                                                16710\n",
      "Esophagus                                              16120\n",
      "Kidney and Renal Pelvis                                14890\n",
      "Ovary                                                  13270\n",
      "Uterus                                                 13030\n",
      "Myeloma                                                12590\n",
      "Oral Cavity and Pharynx                                11580\n",
      "Acute Myeloid Leukemia (AML)                           11310\n",
      "Stomach                                                11130\n",
      "Melanoma of the Skin                                    7990\n",
      "Soft Tissue including Heart                             5140\n",
      "Chronic Lymphocytic Leukemia (CLL)                      4490\n",
      "Cervix Uteri                                            4310\n",
      "Larynx                                                  3820\n",
      "Tongue                                                  2940\n",
      "Bone and Joint                                          2140\n",
      "Thyroid                                                 2120\n",
      "Small Intestine                                         2070\n",
      "Anus                                                    1870\n",
      "Vulva                                                   1670\n",
      "Acute Lymphocytic Leukemia (ALL)                        1390\n",
      "Chronic Myeloid Leukemia (CML)                          1310\n",
      "Hodgkin Lymphoma                                         900\n",
      "Testis                                                   470\n"
     ]
    }
   ],
   "source": [
    "print(pricakovani_smrtni_primeri)"
   ]
  },
  {
   "cell_type": "markdown",
   "id": "29e11a0b",
   "metadata": {},
   "source": [
    "Poleg podatkov o novih in smrtnih primerih, je dobro vedeti pri katerem spolu je določen tip pogostejši. V naslednji tabeli so prikazani podatki o odkritih novih primerih razdeljeni glede na moške in ženske. V zadnjem stolpcu pa so podatki o povprečni starosti pri kateri odkrijejo specifičen tip raka. Ponekod se pojavi `\\`, to zato ker so določeni tipi specifični za določen spol recimo rak materničnega vrata."
   ]
  },
  {
   "cell_type": "code",
   "execution_count": 45,
   "id": "52eeb06b",
   "metadata": {},
   "outputs": [
    {
     "name": "stdout",
     "output_type": "stream",
     "text": [
      "                                                   New Cases Male  \\\n",
      "Type Of Cancer                                                      \n",
      "Anus                                                          1.6   \n",
      "Bladder                                                      31.7   \n",
      "Bone and Joint                                                1.2   \n",
      "Brain and Other Nervous System                                7.4   \n",
      "Breast (Female)                                                 /   \n",
      "Cervix Uteri                                                    /   \n",
      "Childhood Brain and Other Nervous System (Ages ...            3.2   \n",
      "Childhood Leukemia (Ages 0–19)                                5.4   \n",
      "Colon and Rectum                                             42.1   \n",
      "Esophagus                                                     7.2   \n",
      "Kidney and Renal Pelvis                                      23.5   \n",
      "Larynx                                                        4.7   \n",
      "Liver and Intrahepatic Bile Duct                             14.1   \n",
      "Lung and Bronchus                                            56.4   \n",
      "Hodgkin Lymphoma                                              2.8   \n",
      "Non-Hodgkin Lymphoma                                         22.5   \n",
      "Leukemia                                                     17.8   \n",
      "Acute Lymphocytic Leukemia (ALL)                              2.1   \n",
      "Acute Myeloid Leukemia (AML)                                  5.0   \n",
      "Chronic Lymphocytic Leukemia (CLL)                            6.3   \n",
      "Chronic Myeloid Leukemia (CML)                                2.5   \n",
      "Melanoma of the Skin                                         26.9   \n",
      "Myeloma                                                       8.7   \n",
      "Oral Cavity and Pharynx                                      17.2   \n",
      "Tongue                                                        5.5   \n",
      "Ovary                                                           /   \n",
      "Pancreas                                                     15.1   \n",
      "Prostate                                                    113.4   \n",
      "Small Intestine                                               2.9   \n",
      "Soft Tissue including Heart                                   4.1   \n",
      "Stomach                                                       9.0   \n",
      "Testis                                                        6.0   \n",
      "Thyroid                                                       7.4   \n",
      "Uterus                                                          /   \n",
      "Vulva                                                           /   \n",
      "\n",
      "                                                   New Cases Female  \\\n",
      "Type Of Cancer                                                        \n",
      "Anus                                                            2.3   \n",
      "Bladder                                                         7.8   \n",
      "Bone and Joint                                                  0.9   \n",
      "Brain and Other Nervous System                                  5.2   \n",
      "Breast (Female)                                               126.9   \n",
      "Cervix Uteri                                                    7.7   \n",
      "Childhood Brain and Other Nervous System (Ages ...              2.9   \n",
      "Childhood Leukemia (Ages 0–19)                                  4.3   \n",
      "Colon and Rectum                                               32.0   \n",
      "Esophagus                                                       1.7   \n",
      "Kidney and Renal Pelvis                                        11.7   \n",
      "Larynx                                                          1.0   \n",
      "Liver and Intrahepatic Bile Duct                                5.2   \n",
      "Lung and Bronchus                                              45.3   \n",
      "Hodgkin Lymphoma                                                2.3   \n",
      "Non-Hodgkin Lymphoma                                           15.5   \n",
      "Leukemia                                                       10.9   \n",
      "Acute Lymphocytic Leukemia (ALL)                                1.6   \n",
      "Acute Myeloid Leukemia (AML)                                    3.4   \n",
      "Chronic Lymphocytic Leukemia (CLL)                              3.3   \n",
      "Chronic Myeloid Leukemia (CML)                                  1.5   \n",
      "Melanoma of the Skin                                           16.7   \n",
      "Myeloma                                                         5.8   \n",
      "Oral Cavity and Pharynx                                         6.4   \n",
      "Tongue                                                          2.0   \n",
      "Ovary                                                          10.3   \n",
      "Pancreas                                                       11.8   \n",
      "Prostate                                                          /   \n",
      "Small Intestine                                                 2.1   \n",
      "Soft Tissue including Heart                                     2.9   \n",
      "Stomach                                                         5.2   \n",
      "Testis                                                            /   \n",
      "Thyroid                                                        20.2   \n",
      "Uterus                                                         27.6   \n",
      "Vulva                                                           2.5   \n",
      "\n",
      "                                                    Median Age At Diagnosis  \n",
      "Type Of Cancer                                                               \n",
      "Anus                                                                     63  \n",
      "Bladder                                                                  73  \n",
      "Bone and Joint                                                           46  \n",
      "Brain and Other Nervous System                                           60  \n",
      "Breast (Female)                                                          63  \n",
      "Cervix Uteri                                                             50  \n",
      "Childhood Brain and Other Nervous System (Ages ...                        8  \n",
      "Childhood Leukemia (Ages 0–19)                                            6  \n",
      "Colon and Rectum                                                         66  \n",
      "Esophagus                                                                68  \n",
      "Kidney and Renal Pelvis                                                  65  \n",
      "Larynx                                                                   66  \n",
      "Liver and Intrahepatic Bile Duct                                         66  \n",
      "Lung and Bronchus                                                        71  \n",
      "Hodgkin Lymphoma                                                         39  \n",
      "Non-Hodgkin Lymphoma                                                     68  \n",
      "Leukemia                                                                 67  \n",
      "Acute Lymphocytic Leukemia (ALL)                                         17  \n",
      "Acute Myeloid Leukemia (AML)                                             69  \n",
      "Chronic Lymphocytic Leukemia (CLL)                                       70  \n",
      "Chronic Myeloid Leukemia (CML)                                           66  \n",
      "Melanoma of the Skin                                                     66  \n",
      "Myeloma                                                                  69  \n",
      "Oral Cavity and Pharynx                                                  64  \n",
      "Tongue                                                                   64  \n",
      "Ovary                                                                    63  \n",
      "Pancreas                                                                 70  \n",
      "Prostate                                                                 67  \n",
      "Small Intestine                                                          66  \n",
      "Soft Tissue including Heart                                              62  \n",
      "Stomach                                                                  68  \n",
      "Testis                                                                   32  \n",
      "Thyroid                                                                  51  \n",
      "Uterus                                                                   63  \n",
      "Vulva                                                                    69  \n"
     ]
    }
   ],
   "source": [
    "kdo_dobi_tega_raka = vsi_podatki[['New Cases Male', 'New Cases Female', 'Median Age At Diagnosis']].replace(0, '/')\n",
    "print(kdo_dobi_tega_raka)"
   ]
  },
  {
   "cell_type": "markdown",
   "id": "804ec4e3",
   "metadata": {},
   "source": [
    "Seveda nas poleg odkritih novih primerov zanima še kako je z smrtnostjo, zato enako naredimo še za smrtne primere. V tabeli so tako prikazani podatki za vsak spol, kot tudi povprečna starost smrti."
   ]
  },
  {
   "cell_type": "code",
   "execution_count": 46,
   "id": "f2655283",
   "metadata": {},
   "outputs": [
    {
     "name": "stdout",
     "output_type": "stream",
     "text": [
      "                                                   Death Cases Male  \\\n",
      "Type Of Cancer                                                        \n",
      "Anus                                                            0.3   \n",
      "Bladder                                                         7.1   \n",
      "Bone and Joint                                                  0.6   \n",
      "Brain and Other Nervous System                                  5.4   \n",
      "Breast (Female)                                                   /   \n",
      "Cervix Uteri                                                      /   \n",
      "Childhood Brain and Other Nervous System (Ages ...              0.7   \n",
      "Childhood Leukemia (Ages 0–19)                                  0.6   \n",
      "Colon and Rectum                                               15.7   \n",
      "Esophagus                                                       6.7   \n",
      "Kidney and Renal Pelvis                                         5.1   \n",
      "Larynx                                                          1.6   \n",
      "Liver and Intrahepatic Bile Duct                                9.6   \n",
      "Lung and Bronchus                                              42.2   \n",
      "Hodgkin Lymphoma                                                0.3   \n",
      "Non-Hodgkin Lymphoma                                            6.7   \n",
      "Leukemia                                                        8.0   \n",
      "Acute Lymphocytic Leukemia (ALL)                                0.5   \n",
      "Acute Myeloid Leukemia (AML)                                    3.5   \n",
      "Chronic Lymphocytic Leukemia (CLL)                              1.6   \n",
      "Chronic Myeloid Leukemia (CML)                                  0.4   \n",
      "Melanoma of the Skin                                            3.1   \n",
      "Myeloma                                                         3.9   \n",
      "Oral Cavity and Pharynx                                         3.9   \n",
      "Tongue                                                          1.0   \n",
      "Ovary                                                             /   \n",
      "Pancreas                                                       12.7   \n",
      "Prostate                                                       18.8   \n",
      "Small Intestine                                                 0.5   \n",
      "Soft Tissue including Heart                                     1.5   \n",
      "Stomach                                                         3.8   \n",
      "Testis                                                          0.3   \n",
      "Thyroid                                                         0.5   \n",
      "Uterus                                                            /   \n",
      "Vulva                                                             /   \n",
      "\n",
      "                                                   Death Cases Female  \\\n",
      "Type Of Cancer                                                          \n",
      "Anus                                                              0.3   \n",
      "Bladder                                                           2.0   \n",
      "Bone and Joint                                                    0.4   \n",
      "Brain and Other Nervous System                                    3.6   \n",
      "Breast (Female)                                                  19.6   \n",
      "Cervix Uteri                                                      2.2   \n",
      "Childhood Brain and Other Nervous System (Ages ...                0.6   \n",
      "Childhood Leukemia (Ages 0–19)                                    0.5   \n",
      "Colon and Rectum                                                 11.0   \n",
      "Esophagus                                                         1.4   \n",
      "Kidney and Renal Pelvis                                           2.2   \n",
      "Larynx                                                            0.3   \n",
      "Liver and Intrahepatic Bile Duct                                  4.1   \n",
      "Lung and Bronchus                                                29.3   \n",
      "Hodgkin Lymphoma                                                  0.2   \n",
      "Non-Hodgkin Lymphoma                                              3.9   \n",
      "Leukemia                                                          4.5   \n",
      "Acute Lymphocytic Leukemia (ALL)                                  0.4   \n",
      "Acute Myeloid Leukemia (AML)                                      2.1   \n",
      "Chronic Lymphocytic Leukemia (CLL)                                0.7   \n",
      "Chronic Myeloid Leukemia (CML)                                    0.2   \n",
      "Melanoma of the Skin                                              1.3   \n",
      "Myeloma                                                           2.5   \n",
      "Oral Cavity and Pharynx                                           1.4   \n",
      "Tongue                                                            0.4   \n",
      "Ovary                                                             6.3   \n",
      "Pancreas                                                          9.6   \n",
      "Prostate                                                            /   \n",
      "Small Intestine                                                   0.4   \n",
      "Soft Tissue including Heart                                       1.1   \n",
      "Stomach                                                           2.1   \n",
      "Testis                                                              /   \n",
      "Thyroid                                                           0.5   \n",
      "Uterus                                                            5.1   \n",
      "Vulva                                                             0.6   \n",
      "\n",
      "                                                    Median Age At Death  \n",
      "Type Of Cancer                                                           \n",
      "Anus                                                                 67  \n",
      "Bladder                                                              79  \n",
      "Bone and Joint                                                       66  \n",
      "Brain and Other Nervous System                                       66  \n",
      "Breast (Female)                                                      70  \n",
      "Cervix Uteri                                                         59  \n",
      "Childhood Brain and Other Nervous System (Ages ...                    9  \n",
      "Childhood Leukemia (Ages 0–19)                                       11  \n",
      "Colon and Rectum                                                     72  \n",
      "Esophagus                                                            70  \n",
      "Kidney and Renal Pelvis                                              72  \n",
      "Larynx                                                               69  \n",
      "Liver and Intrahepatic Bile Duct                                     69  \n",
      "Lung and Bronchus                                                    72  \n",
      "Hodgkin Lymphoma                                                     70  \n",
      "Non-Hodgkin Lymphoma                                                 76  \n",
      "Leukemia                                                             76  \n",
      "Acute Lymphocytic Leukemia (ALL)                                     59  \n",
      "Acute Myeloid Leukemia (AML)                                         73  \n",
      "Chronic Lymphocytic Leukemia (CLL)                                   82  \n",
      "Chronic Myeloid Leukemia (CML)                                       77  \n",
      "Melanoma of the Skin                                                 72  \n",
      "Myeloma                                                              75  \n",
      "Oral Cavity and Pharynx                                              68  \n",
      "Tongue                                                               68  \n",
      "Ovary                                                                70  \n",
      "Pancreas                                                             72  \n",
      "Prostate                                                             79  \n",
      "Small Intestine                                                      72  \n",
      "Soft Tissue including Heart                                          67  \n",
      "Stomach                                                              71  \n",
      "Testis                                                               40  \n",
      "Thyroid                                                              74  \n",
      "Uterus                                                               70  \n",
      "Vulva                                                                77  \n"
     ]
    }
   ],
   "source": [
    "kdo_umre_od_tega_raka = vsi_podatki[['Death Cases Male', 'Death Cases Female', 'Median Age At Death']].replace(0, '/')\n",
    "print(kdo_umre_od_tega_raka)"
   ]
  },
  {
   "cell_type": "markdown",
   "id": "d4996dca",
   "metadata": {},
   "source": [
    "V spodaj prikazani tabeli so podatki o 5 letni stopnji preživetja."
   ]
  },
  {
   "cell_type": "code",
   "execution_count": 47,
   "id": "98ba3750",
   "metadata": {},
   "outputs": [
    {
     "name": "stdout",
     "output_type": "stream",
     "text": [
      "                                                   5-Year Relative Survival \n",
      "Type Of Cancer                                                              \n",
      "Anus                                                                   70.4%\n",
      "Bladder                                                                77.9%\n",
      "Bone and Joint                                                         68.9%\n",
      "Brain and Other Nervous System                                         33.8%\n",
      "Breast (Female)                                                        90.8%\n",
      "Cervix Uteri                                                           67.2%\n",
      "Childhood Brain and Other Nervous System (Ages ...                         /\n",
      "Childhood Leukemia (Ages 0–19)                                             /\n",
      "Colon and Rectum                                                       65.0%\n",
      "Esophagus                                                              21.7%\n",
      "Kidney and Renal Pelvis                                                77.6%\n",
      "Larynx                                                                 61.6%\n",
      "Liver and Intrahepatic Bile Duct                                       21.6%\n",
      "Lung and Bronchus                                                      25.4%\n",
      "Hodgkin Lymphoma                                                       88.9%\n",
      "Non-Hodgkin Lymphoma                                                   74.3%\n",
      "Leukemia                                                               66.7%\n",
      "Acute Lymphocytic Leukemia (ALL)                                       71.3%\n",
      "Acute Myeloid Leukemia (AML)                                           31.7%\n",
      "Chronic Lymphocytic Leukemia (CLL)                                     88.0%\n",
      "Chronic Myeloid Leukemia (CML)                                         70.6%\n",
      "Melanoma of the Skin                                                   93.5%\n",
      "Myeloma                                                                59.8%\n",
      "Oral Cavity and Pharynx                                                68.5%\n",
      "Tongue                                                                 69.7%\n",
      "Ovary                                                                  50.8%\n",
      "Pancreas                                                               12.5%\n",
      "Prostate                                                               97.1%\n",
      "Small Intestine                                                        69.5%\n",
      "Soft Tissue including Heart                                            65.8%\n",
      "Stomach                                                                35.7%\n",
      "Testis                                                                 95.2%\n",
      "Thyroid                                                                98.5%\n",
      "Uterus                                                                 81.0%\n",
      "Vulva                                                                  69.6%\n"
     ]
    }
   ],
   "source": [
    "moznost_prezivetja = vsi_podatki[['5-Year Relative Survival ']].replace(0, '/')\n",
    "print(moznost_prezivetja)"
   ]
  },
  {
   "cell_type": "markdown",
   "id": "408f877e",
   "metadata": {},
   "source": [
    "Podatke želimo predstaviti tudi grafično, zato definiramo gunkcijo za generiranje grafov."
   ]
  },
  {
   "cell_type": "code",
   "execution_count": 48,
   "id": "e00a8fe1",
   "metadata": {},
   "outputs": [],
   "source": [
    "def generiraj_graf(naslov, vrednosti):\n",
    "    ax1 = vrednosti.plot(kind='barh', legend=False, figsize=(25, 8), width=0.8, color='#4169E1')\n",
    "    ax1.set_title(naslov)\n",
    "    ax1.set_ylabel(' ')\n",
    "    plt.savefig(mapa_grafi + naslov + '.jpg', format='jpeg')\n",
    "    plt.close()"
   ]
  },
  {
   "cell_type": "markdown",
   "id": "8ae1ef3b",
   "metadata": {},
   "source": [
    "Prvi graf prikazuje pričakovane nove primere v letu 2023."
   ]
  },
  {
   "cell_type": "code",
   "execution_count": 50,
   "id": "b9934cc6",
   "metadata": {},
   "outputs": [],
   "source": [
    "generiraj_graf('Estimated New Cases in 2023', pricakovani_novi_primeri)"
   ]
  },
  {
   "cell_type": "markdown",
   "id": "20298bd5",
   "metadata": {},
   "source": [
    "Drugi graf prikazuje pričakovane smrtne primere v letu 2023."
   ]
  },
  {
   "cell_type": "code",
   "execution_count": 51,
   "id": "3aad8d69",
   "metadata": {},
   "outputs": [],
   "source": [
    "generiraj_graf('Estimated Deaths in 2023', pricakovani_smrtni_primeri)"
   ]
  },
  {
   "cell_type": "markdown",
   "id": "ba4a3e22",
   "metadata": {},
   "source": [
    "Enako naredimo še za generiranje grafov, kjer bo prikazana primerjava med šteilom moških in številom žensk, ki dobijo oziroma umrejo za rakom. Za vsak tip raka se bo posebaj izrisal graf, ki bo prikaz delež moških in delež žensk pri katerem so odkrili raka oziroma so umrli za rakom."
   ]
  },
  {
   "cell_type": "code",
   "execution_count": 59,
   "id": "95a2cd4e",
   "metadata": {},
   "outputs": [],
   "source": [
    "def generiraj_graf_primerjave(v1, v2, naslov):\n",
    "    primerjava = vsi_podatki[[v1, v2]]\n",
    "    primerjava.loc[:, [v1, v2]] = primerjava[[v1, v2]].applymap(pd.to_numeric, errors='coerce')\n",
    "\n",
    "    for index, row in primerjava.iterrows():\n",
    "        values = row.values\n",
    "\n",
    "        plt.bar(range(len(values)), values, color=['#A4D3EE', '#FFAEB9'])\n",
    "\n",
    "        plt.ylim(bottom=0)\n",
    "        plt.title(f'Type of cancer: {index}')\n",
    "\n",
    "        plt.savefig(f'{mapa_grafi}{naslov}{index}.jpg', format='jpeg')\n",
    "        plt.clf()"
   ]
  },
  {
   "cell_type": "markdown",
   "id": "e34aecb5",
   "metadata": {},
   "source": [
    "Generiramo grafe tako, da uporabimo funkcijo."
   ]
  },
  {
   "cell_type": "code",
   "execution_count": 60,
   "id": "6382cd2e",
   "metadata": {},
   "outputs": [
    {
     "data": {
      "text/plain": [
       "<Figure size 640x480 with 0 Axes>"
      ]
     },
     "metadata": {},
     "output_type": "display_data"
    }
   ],
   "source": [
    "generiraj_graf_primerjave('New Cases Male', 'New Cases Female', 'bar_plot_new_cases_')\n",
    "generiraj_graf_primerjave('Death Cases Male', 'Death Cases Female', 'bar_plot_death_cases_')"
   ]
  },
  {
   "cell_type": "markdown",
   "id": "51ed07e9",
   "metadata": {},
   "source": [
    "Na koncu bomo predstavili še kakšen delež predstavlja določen tip raka v novih primerih in pa v smrtnih primerih. Prvo kar moramo narediti je filtrirati podatke, saj niso vsi uporabni."
   ]
  },
  {
   "cell_type": "code",
   "execution_count": 55,
   "id": "b28e5dc0",
   "metadata": {},
   "outputs": [],
   "source": [
    "procenti = vsi_podatki[['(%) of All New Cancer Cases', '(%) of All Cancer Deaths']]\n",
    "procenti = procenti[procenti['(%) of All New Cancer Cases'] != 0]\n",
    "\n",
    "procenti.loc[:, '(%) of All New Cancer Cases'] = procenti['(%) of All New Cancer Cases'].str.replace('%', '')\n",
    "procenti.loc[:, '(%) of All Cancer Deaths'] = procenti['(%) of All Cancer Deaths'].str.replace('%', '')\n",
    "procenti.loc[:, ['(%) of All New Cancer Cases', '(%) of All Cancer Deaths']] = procenti[\n",
    "    ['(%) of All New Cancer Cases', '(%) of All Cancer Deaths']].applymap(pd.to_numeric, errors='coerce')\n",
    "\n",
    "procenti_novi = procenti[['(%) of All New Cancer Cases']]\n",
    "procenti_smrtni = procenti[['(%) of All Cancer Deaths']]"
   ]
  },
  {
   "cell_type": "markdown",
   "id": "4a51e2a5",
   "metadata": {},
   "source": [
    "Ker smo že napisali funkcijo za generiranje grafov, jo lahko tu samo pokličemo in vanjo ustavimo ustrezne podatke."
   ]
  },
  {
   "cell_type": "code",
   "execution_count": 58,
   "id": "22f84107",
   "metadata": {},
   "outputs": [],
   "source": [
    "generiraj_graf('(%) of All New Cancer Cases', procenti_novi)\n",
    "generiraj_graf('(%) of All Cancer Deaths', procenti_smrtni)"
   ]
  },
  {
   "cell_type": "code",
   "execution_count": null,
   "id": "c7970e9d",
   "metadata": {},
   "outputs": [],
   "source": []
  }
 ],
 "metadata": {
  "kernelspec": {
   "display_name": "Python 3 (ipykernel)",
   "language": "python",
   "name": "python3"
  },
  "language_info": {
   "codemirror_mode": {
    "name": "ipython",
    "version": 3
   },
   "file_extension": ".py",
   "mimetype": "text/x-python",
   "name": "python",
   "nbconvert_exporter": "python",
   "pygments_lexer": "ipython3",
   "version": "3.10.2"
  }
 },
 "nbformat": 4,
 "nbformat_minor": 5
}
