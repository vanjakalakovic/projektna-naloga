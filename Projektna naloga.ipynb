{
 "cells": [
  {
   "cell_type": "markdown",
   "id": "01966206",
   "metadata": {},
   "source": [
    "# Projektna naloga"
   ]
  },
  {
   "cell_type": "markdown",
   "id": "041af318",
   "metadata": {},
   "source": [
    "Za projektno nalogo sem se odločila, da bom analizirala podatke o rakavih obolenjih. Glavni cilj te projektne naloge je, da temeljito analizira statistične podatke posameznega tipa raka ter te podatke ustrezno in razumljivo predstavi."
   ]
  },
  {
   "cell_type": "markdown",
   "id": "ab99ff0b",
   "metadata": {},
   "source": [
    "Najprej sem vpeljala ustrezne knjižnjice, ki sem jih potrebovala."
   ]
  },
  {
   "cell_type": "code",
   "execution_count": 2,
   "id": "0dc600ae",
   "metadata": {},
   "outputs": [],
   "source": [
    "import re\n",
    "from urllib.request import urlopen\n",
    "from bs4 import BeautifulSoup\n",
    "import csv\n",
    "import pandas as pd\n",
    "import matplotlib.pyplot as plt\n",
    "import plotly.express as px\n",
    "import plotly.io as pio"
   ]
  },
  {
   "cell_type": "code",
   "execution_count": null,
   "id": "7ebcdc1b",
   "metadata": {},
   "outputs": [],
   "source": []
  }
 ],
 "metadata": {
  "kernelspec": {
   "display_name": "Python 3 (ipykernel)",
   "language": "python",
   "name": "python3"
  },
  "language_info": {
   "codemirror_mode": {
    "name": "ipython",
    "version": 3
   },
   "file_extension": ".py",
   "mimetype": "text/x-python",
   "name": "python",
   "nbconvert_exporter": "python",
   "pygments_lexer": "ipython3",
   "version": "3.10.2"
  }
 },
 "nbformat": 4,
 "nbformat_minor": 5
}
